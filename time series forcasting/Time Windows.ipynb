{
 "cells": [
  {
   "cell_type": "code",
   "execution_count": 1,
   "id": "9a887a1f",
   "metadata": {},
   "outputs": [],
   "source": [
    "import tensorflow as tf"
   ]
  },
  {
   "cell_type": "code",
   "execution_count": 2,
   "id": "47979342",
   "metadata": {},
   "outputs": [
    {
     "name": "stdout",
     "output_type": "stream",
     "text": [
      "0\n",
      "1\n",
      "2\n",
      "3\n",
      "4\n",
      "5\n",
      "6\n",
      "7\n",
      "8\n",
      "9\n"
     ]
    }
   ],
   "source": [
    "dataset = tf.data.Dataset.range(10)\n",
    "for val in dataset:\n",
    "    print(val.numpy())"
   ]
  },
  {
   "cell_type": "code",
   "execution_count": 8,
   "id": "e64e4ec4",
   "metadata": {},
   "outputs": [
    {
     "name": "stdout",
     "output_type": "stream",
     "text": [
      "0 1 2 3 4 \n",
      "1 2 3 4 5 \n",
      "2 3 4 5 6 \n",
      "3 4 5 6 7 \n",
      "4 5 6 7 8 \n",
      "5 6 7 8 9 \n",
      "6 7 8 9 \n",
      "7 8 9 \n",
      "8 9 \n",
      "9 \n"
     ]
    }
   ],
   "source": [
    "dataset = tf.data.Dataset.range(10)\n",
    "dataset = dataset.window(5, shift=1)\n",
    "for window in dataset:\n",
    "    for val in window:\n",
    "        print(val.numpy(), end=\" \")\n",
    "    print()"
   ]
  },
  {
   "cell_type": "code",
   "execution_count": 9,
   "id": "83b38591",
   "metadata": {},
   "outputs": [
    {
     "name": "stdout",
     "output_type": "stream",
     "text": [
      "0 1 2 3 4 \n",
      "1 2 3 4 5 \n",
      "2 3 4 5 6 \n",
      "3 4 5 6 7 \n",
      "4 5 6 7 8 \n",
      "5 6 7 8 9 \n"
     ]
    }
   ],
   "source": [
    "dataset = tf.data.Dataset.range(10)\n",
    "# drop the incomplete window\n",
    "dataset = dataset.window(5, shift=1, drop_remainder=True)\n",
    "for window in dataset:\n",
    "    for val in window:\n",
    "        print(val.numpy(), end=\" \")\n",
    "    print()"
   ]
  },
  {
   "cell_type": "code",
   "execution_count": 19,
   "id": "7f7070fc",
   "metadata": {},
   "outputs": [],
   "source": [
    "def batch_window(window):\n",
    "    return window.batch(5)"
   ]
  },
  {
   "cell_type": "code",
   "execution_count": 21,
   "id": "2cf5ffdd",
   "metadata": {},
   "outputs": [
    {
     "name": "stdout",
     "output_type": "stream",
     "text": [
      "[0 1 2 3 4]\n",
      "tf.Tensor([0 1 2 3], shape=(4,), dtype=int64)\n",
      "tf.Tensor([4], shape=(1,), dtype=int64)\n",
      "[1 2 3 4 5]\n",
      "tf.Tensor([1 2 3 4], shape=(4,), dtype=int64)\n",
      "tf.Tensor([5], shape=(1,), dtype=int64)\n",
      "[2 3 4 5 6]\n",
      "tf.Tensor([2 3 4 5], shape=(4,), dtype=int64)\n",
      "tf.Tensor([6], shape=(1,), dtype=int64)\n",
      "[3 4 5 6 7]\n",
      "tf.Tensor([3 4 5 6], shape=(4,), dtype=int64)\n",
      "tf.Tensor([7], shape=(1,), dtype=int64)\n",
      "[4 5 6 7 8]\n",
      "tf.Tensor([4 5 6 7], shape=(4,), dtype=int64)\n",
      "tf.Tensor([8], shape=(1,), dtype=int64)\n",
      "[5 6 7 8 9]\n",
      "tf.Tensor([5 6 7 8], shape=(4,), dtype=int64)\n",
      "tf.Tensor([9], shape=(1,), dtype=int64)\n"
     ]
    }
   ],
   "source": [
    "dataset = tf.data.Dataset.range(10)\n",
    "dataset = dataset.window(5, shift=1, drop_remainder=True)\n",
    "dataset = dataset.flat_map(batch_window)\n",
    "for window in dataset:\n",
    "    print(window.numpy())"
   ]
  },
  {
   "cell_type": "code",
   "execution_count": 23,
   "id": "20f56722",
   "metadata": {},
   "outputs": [],
   "source": [
    "def window_to_x_y(window):\n",
    "    return (window[:-1], window[-1:])"
   ]
  },
  {
   "cell_type": "code",
   "execution_count": 24,
   "id": "d4c62f35",
   "metadata": {},
   "outputs": [
    {
     "name": "stdout",
     "output_type": "stream",
     "text": [
      "[0 1 2 3] [4]\n",
      "\n",
      "[1 2 3 4] [5]\n",
      "\n",
      "[2 3 4 5] [6]\n",
      "\n",
      "[3 4 5 6] [7]\n",
      "\n",
      "[4 5 6 7] [8]\n",
      "\n",
      "[5 6 7 8] [9]\n",
      "\n"
     ]
    }
   ],
   "source": [
    "dataset = tf.data.Dataset.range(10)\n",
    "dataset = dataset.window(5, shift=1, drop_remainder=True)\n",
    "dataset = dataset.flat_map(batch_window)\n",
    "dataset = dataset.map(window_to_x_y)\n",
    "for window, target in dataset:\n",
    "    print(window.numpy(), target.numpy())\n",
    "    print()"
   ]
  },
  {
   "cell_type": "code",
   "execution_count": 25,
   "id": "94705c5c",
   "metadata": {},
   "outputs": [
    {
     "name": "stdout",
     "output_type": "stream",
     "text": [
      "window:  [[1 2 3 4]\n",
      " [0 1 2 3]]\n",
      "target:  [[5]\n",
      " [4]]\n",
      "window:  [[3 4 5 6]\n",
      " [2 3 4 5]]\n",
      "target:  [[7]\n",
      " [6]]\n",
      "window:  [[5 6 7 8]\n",
      " [4 5 6 7]]\n",
      "target:  [[9]\n",
      " [8]]\n"
     ]
    }
   ],
   "source": [
    "dataset = tf.data.Dataset.range(10)\n",
    "dataset = dataset.window(5, shift=1, drop_remainder=True)\n",
    "dataset = dataset.flat_map(batch_window)\n",
    "dataset = dataset.map(window_to_x_y)\n",
    "dataset = dataset.shuffle(buffer_size=10)\n",
    "dataset = dataset.batch(2).prefetch(1)\n",
    "for window, target in dataset:\n",
    "    print(\"window: \", window.numpy())\n",
    "    print(\"target: \", target.numpy())"
   ]
  },
  {
   "cell_type": "code",
   "execution_count": null,
   "id": "402d7870",
   "metadata": {},
   "outputs": [],
   "source": [
    "def window_dataset(series, window_size, batch_size=32,\n",
    "                   shuffle_buffer=1000):\n",
    "    dataset = tf.data.Dataset.from_tensor_slices(series)\n",
    "    dataset = dataset.window(window_size + 1, shift=1, drop_remainder=True)\n",
    "    dataset = dataset.flat_map(lambda window: window.batch(window_size + 1))\n",
    "    dataset = dataset.shuffle(shuffle_buffer)\n",
    "    dataset = dataset.map(lambda window: (window[:-1], window[-1]))\n",
    "    dataset = dataset.batch(batch_size).prefetch(1)\n",
    "    return dataset"
   ]
  },
  {
   "cell_type": "code",
   "execution_count": null,
   "id": "62dee3dd",
   "metadata": {},
   "outputs": [],
   "source": []
  },
  {
   "cell_type": "code",
   "execution_count": null,
   "id": "39ac7ef2",
   "metadata": {},
   "outputs": [],
   "source": []
  },
  {
   "cell_type": "code",
   "execution_count": null,
   "id": "3ac256eb",
   "metadata": {},
   "outputs": [],
   "source": []
  },
  {
   "cell_type": "code",
   "execution_count": null,
   "id": "48039b0a",
   "metadata": {},
   "outputs": [],
   "source": []
  },
  {
   "cell_type": "code",
   "execution_count": null,
   "id": "5e2bcc27",
   "metadata": {},
   "outputs": [],
   "source": []
  },
  {
   "cell_type": "code",
   "execution_count": null,
   "id": "b6a05e59",
   "metadata": {},
   "outputs": [],
   "source": []
  },
  {
   "cell_type": "code",
   "execution_count": null,
   "id": "290e65db",
   "metadata": {},
   "outputs": [],
   "source": []
  }
 ],
 "metadata": {
  "kernelspec": {
   "display_name": "Python 3 (ipykernel)",
   "language": "python",
   "name": "python3"
  },
  "language_info": {
   "codemirror_mode": {
    "name": "ipython",
    "version": 3
   },
   "file_extension": ".py",
   "mimetype": "text/x-python",
   "name": "python",
   "nbconvert_exporter": "python",
   "pygments_lexer": "ipython3",
   "version": "3.9.12"
  }
 },
 "nbformat": 4,
 "nbformat_minor": 5
}
