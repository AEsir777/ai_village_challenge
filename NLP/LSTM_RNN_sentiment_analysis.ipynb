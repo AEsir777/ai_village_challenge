{
  "nbformat": 4,
  "nbformat_minor": 0,
  "metadata": {
    "colab": {
      "provenance": []
    },
    "kernelspec": {
      "name": "python3",
      "display_name": "Python 3"
    },
    "language_info": {
      "name": "python"
    },
    "accelerator": "GPU",
    "gpuClass": "standard"
  },
  "cells": [
    {
      "cell_type": "code",
      "execution_count": 37,
      "metadata": {
        "id": "KNfHjIs-WaiM"
      },
      "outputs": [],
      "source": [
        "import tensorflow as tf\n",
        "import pandas as pd\n",
        "import numpy as np\n",
        "import tensorflow_datasets as tfds\n",
        "import matplotlib.pyplot as plt"
      ]
    },
    {
      "cell_type": "code",
      "source": [
        "!wget --no-check-certificate \\\n",
        "    https://drive.google.com/uc?id=13ySLC_ue6Umt9RJYSeM2t-V0kCv-4C-P -O /tmp/sentiment.csv"
      ],
      "metadata": {
        "colab": {
          "base_uri": "https://localhost:8080/"
        },
        "id": "M1cOPEtDW5Pb",
        "outputId": "0faeea30-0727-4ef7-aa1e-e645d1ae850e"
      },
      "execution_count": 2,
      "outputs": [
        {
          "output_type": "stream",
          "name": "stdout",
          "text": [
            "--2023-02-12 02:02:04--  https://drive.google.com/uc?id=13ySLC_ue6Umt9RJYSeM2t-V0kCv-4C-P\n",
            "Resolving drive.google.com (drive.google.com)... 142.250.4.139, 142.250.4.102, 142.250.4.100, ...\n",
            "Connecting to drive.google.com (drive.google.com)|142.250.4.139|:443... connected.\n",
            "HTTP request sent, awaiting response... 303 See Other\n",
            "Location: https://doc-08-ak-docs.googleusercontent.com/docs/securesc/ha0ro937gcuc7l7deffksulhg5h7mbp1/ube5749rl2qg26rqamddkmi8s1a0fkol/1676167275000/11118900490791463723/*/13ySLC_ue6Umt9RJYSeM2t-V0kCv-4C-P?uuid=efa1f3d5-fd1a-4853-b65b-363666f3202e [following]\n",
            "Warning: wildcards not supported in HTTP.\n",
            "--2023-02-12 02:02:06--  https://doc-08-ak-docs.googleusercontent.com/docs/securesc/ha0ro937gcuc7l7deffksulhg5h7mbp1/ube5749rl2qg26rqamddkmi8s1a0fkol/1676167275000/11118900490791463723/*/13ySLC_ue6Umt9RJYSeM2t-V0kCv-4C-P?uuid=efa1f3d5-fd1a-4853-b65b-363666f3202e\n",
            "Resolving doc-08-ak-docs.googleusercontent.com (doc-08-ak-docs.googleusercontent.com)... 74.125.24.132, 2404:6800:4003:c03::84\n",
            "Connecting to doc-08-ak-docs.googleusercontent.com (doc-08-ak-docs.googleusercontent.com)|74.125.24.132|:443... connected.\n",
            "HTTP request sent, awaiting response... 200 OK\n",
            "Length: 127831 (125K) [text/csv]\n",
            "Saving to: ‘/tmp/sentiment.csv’\n",
            "\n",
            "/tmp/sentiment.csv  100%[===================>] 124.83K  --.-KB/s    in 0.001s  \n",
            "\n",
            "2023-02-12 02:02:06 (99.4 MB/s) - ‘/tmp/sentiment.csv’ saved [127831/127831]\n",
            "\n"
          ]
        }
      ]
    },
    {
      "cell_type": "code",
      "source": [
        "dataset = pd.read_csv('/tmp/sentiment.csv')\n",
        "\n",
        "# Extract out sentences and labels\n",
        "sentences = np.array(dataset['text'])\n",
        "labels = np.array(dataset['sentiment'])"
      ],
      "metadata": {
        "id": "H_vmwTHVW60y"
      },
      "execution_count": 4,
      "outputs": []
    },
    {
      "cell_type": "code",
      "source": [
        "for x in range(2):\n",
        "  print(sentences[x], ' ', labels[x])"
      ],
      "metadata": {
        "colab": {
          "base_uri": "https://localhost:8080/"
        },
        "id": "cbHY0i5tXUrT",
        "outputId": "fcb38502-7a05-478c-ca96-eb3d426d9d9a"
      },
      "execution_count": 7,
      "outputs": [
        {
          "output_type": "stream",
          "name": "stdout",
          "text": [
            "So there is no way for me to plug it in here in the US unless I go by a converter.   0\n",
            "Good case Excellent value.   1\n"
          ]
        }
      ]
    },
    {
      "cell_type": "code",
      "source": [
        "vocab_size = 1000\n",
        "tokenizer = tfds.deprecated.text.SubwordTextEncoder.build_from_corpus(sentences, vocab_size, \n",
        "                                                                      max_subword_length=5)\n",
        "print(tokenizer.vocab_size)"
      ],
      "metadata": {
        "colab": {
          "base_uri": "https://localhost:8080/"
        },
        "id": "aD8sTzdFYPPc",
        "outputId": "1f718143-f668-42b8-924e-f82b86e95813"
      },
      "execution_count": 9,
      "outputs": [
        {
          "output_type": "stream",
          "name": "stdout",
          "text": [
            "999\n"
          ]
        }
      ]
    },
    {
      "cell_type": "code",
      "source": [
        "print(sentences[2])"
      ],
      "metadata": {
        "colab": {
          "base_uri": "https://localhost:8080/"
        },
        "id": "TZ4ozhIiY0Ob",
        "outputId": "16e6e88e-c0d7-45b6-f5e7-4df24471e1d6"
      },
      "execution_count": 11,
      "outputs": [
        {
          "output_type": "stream",
          "name": "stdout",
          "text": [
            "Great for the jawbone.\n"
          ]
        }
      ]
    },
    {
      "cell_type": "code",
      "source": [
        "encoded = tokenizer.encode(sentences[2])\n",
        "encoded"
      ],
      "metadata": {
        "colab": {
          "base_uri": "https://localhost:8080/"
        },
        "id": "DWr49Y-kY5C7",
        "outputId": "6afa7461-df78-407a-e6a6-d13c58c68370"
      },
      "execution_count": 13,
      "outputs": [
        {
          "output_type": "execute_result",
          "data": {
            "text/plain": [
              "[134, 775, 17, 1, 849, 179, 205, 52, 789]"
            ]
          },
          "metadata": {},
          "execution_count": 13
        }
      ]
    },
    {
      "cell_type": "code",
      "source": [
        "for index in encoded:\n",
        "  print(tokenizer.decode([index]))"
      ],
      "metadata": {
        "colab": {
          "base_uri": "https://localhost:8080/"
        },
        "id": "td6yz7HvY9zq",
        "outputId": "c572fca2-81ae-42bf-b430-7fbcb14727ff"
      },
      "execution_count": 15,
      "outputs": [
        {
          "output_type": "stream",
          "name": "stdout",
          "text": [
            "Great\n",
            " \n",
            "for \n",
            "the \n",
            "j\n",
            "aw\n",
            "bo\n",
            "ne\n",
            ".\n"
          ]
        }
      ]
    },
    {
      "cell_type": "code",
      "source": [
        "encoded_sentences = []\n",
        "for i, sentence in enumerate(sentences):\n",
        "  encoded_sentences.append(tokenizer.encode(sentence))"
      ],
      "metadata": {
        "id": "mz-bFodAZqRL"
      },
      "execution_count": 16,
      "outputs": []
    },
    {
      "cell_type": "code",
      "source": [
        "encoded_sentences[3]"
      ],
      "metadata": {
        "colab": {
          "base_uri": "https://localhost:8080/"
        },
        "id": "QZc7NwOCZ0-x",
        "outputId": "68d9e7ce-2a9b-4124-9770-7f0b7eae140c"
      },
      "execution_count": 17,
      "outputs": [
        {
          "output_type": "execute_result",
          "data": {
            "text/plain": [
              "[827,\n",
              " 187,\n",
              " 11,\n",
              " 6,\n",
              " 143,\n",
              " 63,\n",
              " 17,\n",
              " 79,\n",
              " 227,\n",
              " 594,\n",
              " 331,\n",
              " 3,\n",
              " 660,\n",
              " 26,\n",
              " 313,\n",
              " 182,\n",
              " 795,\n",
              " 415,\n",
              " 374,\n",
              " 60,\n",
              " 789,\n",
              " 820,\n",
              " 808,\n",
              " 817,\n",
              " 822,\n",
              " 825,\n",
              " 775,\n",
              " 823,\n",
              " 825,\n",
              " 822,\n",
              " 809,\n",
              " 819,\n",
              " 812,\n",
              " 820,\n",
              " 826,\n",
              " 263]"
            ]
          },
          "metadata": {},
          "execution_count": 17
        }
      ]
    },
    {
      "cell_type": "code",
      "source": [
        "encoded_sentences[0]"
      ],
      "metadata": {
        "colab": {
          "base_uri": "https://localhost:8080/",
          "height": 165
        },
        "id": "v6cSuuUKdzvw",
        "outputId": "693b43df-686c-4bee-c991-c85a1021bdfd"
      },
      "execution_count": 31,
      "outputs": [
        {
          "output_type": "error",
          "ename": "TypeError",
          "evalue": "ignored",
          "traceback": [
            "\u001b[0;31m---------------------------------------------------------------------------\u001b[0m",
            "\u001b[0;31mTypeError\u001b[0m                                 Traceback (most recent call last)",
            "\u001b[0;32m<ipython-input-31-82ea65f917c5>\u001b[0m in \u001b[0;36m<module>\u001b[0;34m\u001b[0m\n\u001b[0;32m----> 1\u001b[0;31m \u001b[0mencoded_sentences\u001b[0m\u001b[0;34m[\u001b[0m\u001b[0;36m0\u001b[0m\u001b[0;34m,\u001b[0m \u001b[0;36m1\u001b[0m\u001b[0;34m]\u001b[0m\u001b[0;34m\u001b[0m\u001b[0;34m\u001b[0m\u001b[0m\n\u001b[0m",
            "\u001b[0;31mTypeError\u001b[0m: list indices must be integers or slices, not tuple"
          ]
        }
      ]
    },
    {
      "cell_type": "code",
      "source": [
        "max_length = 50\n",
        "padded_sequences = tf.keras.utils.pad_sequences(encoded_sentences, maxlen=max_length, \n",
        "                                                padding='post', truncating='post')"
      ],
      "metadata": {
        "id": "PCo8VKFIZ7x6"
      },
      "execution_count": 32,
      "outputs": []
    },
    {
      "cell_type": "code",
      "source": [
        "training_size = int(len(sentences) * 0.8)\n",
        "\n",
        "training_sequences = padded_sequences[0:training_size]\n",
        "testing_sequences = padded_sequences[training_size:]\n",
        "training_labels = labels[0:training_size]\n",
        "testing_labels = labels[training_size:]"
      ],
      "metadata": {
        "id": "j-SdevPGfJEA"
      },
      "execution_count": 36,
      "outputs": []
    },
    {
      "cell_type": "code",
      "source": [
        "embedding_dim = 16\n",
        "num_epochs = 30\n",
        "\n",
        "def compile_model(model):\n",
        "  model.compile(loss='binary_crossentropy',optimizer='adam', metrics=['accuracy'])\n",
        "  model.summary()\n",
        "  history = model.fit(training_sequences, training_labels, epochs=num_epochs, \n",
        "                      validation_data=(testing_sequences, testing_labels))\n",
        "  return history\n",
        "\n",
        "def plot_graphs(history, string):\n",
        "  plt.plot(history.history[string])\n",
        "  plt.plot(history.history['val_'+string])\n",
        "  plt.xlabel(\"Epochs\")\n",
        "  plt.ylabel(string)\n",
        "  plt.legend([string, 'val_'+string])\n",
        "  plt.show()\n",
        "\n",
        "def plot_results (history):\n",
        "  plot_graphs(history, \"accuracy\")\n",
        "  plot_graphs(history, \"loss\")\n",
        "\n",
        "def predict_new_sentences(model, new_sentences, maxlen=max_length):\n",
        "  encoded_sentences = []\n",
        "  for i, sentence in enumerate(new_sentences):\n",
        "    encoded_sentences.append(tokenizer.encode(sentence))\n",
        "  \n",
        "  padded_sequences = tf.keras.utils.pad_sequences(encoded_sentences, maxlen=maxlen, \n",
        "                                                  padding='post', truncating='post')\n",
        "  predictions = model.predict(padded_sequences)\n",
        "\n",
        "  for i, res in enumerate(predictions):\n",
        "    print(new_sentences[i], ' ', res)\n",
        "\n",
        "def fit_model_and_show_results (model, new_sentences):\n",
        "  history = compile_model(model)\n",
        "  plot_results(history)\n",
        "  predict_new_sentences(model, new_sentences)"
      ],
      "metadata": {
        "id": "G7bvwhsWf7Xh"
      },
      "execution_count": 42,
      "outputs": []
    },
    {
      "cell_type": "code",
      "source": [
        "fake_reviews = [\"I love this phone\", \n",
        "                \"Everything was cold\",\n",
        "                \"Everything was hot exactly as I wanted\", \n",
        "                \"Everything was green\", \n",
        "                \"the host seated us immediately\",\n",
        "                \"they gave us free chocolate cake\", \n",
        "                \"we couldn't hear each other talk because of the shouting in the kitchen\"\n",
        "              ]"
      ],
      "metadata": {
        "id": "3GZDeVGZh9Rg"
      },
      "execution_count": 39,
      "outputs": []
    },
    {
      "cell_type": "code",
      "source": [
        "embedding_model = tf.keras.Sequential([\n",
        "    tf.keras.layers.Embedding(vocab_size, embedding_dim, input_length=max_length),\n",
        "    tf.keras.layers.GlobalAveragePooling1D(), \n",
        "    tf.keras.layers.Dense(6, activation='relu'),\n",
        "    tf.keras.layers.Dense(1, activation='sigmoid')\n",
        "])\n",
        "\n",
        "\n",
        "fit_model_and_show_results(embedding_model, fake_reviews)\n"
      ],
      "metadata": {
        "colab": {
          "base_uri": "https://localhost:8080/",
          "height": 1000
        },
        "id": "xl-IzbYhc440",
        "outputId": "d9ba43e9-1071-4389-ecaf-6e1a372d17f5"
      },
      "execution_count": 43,
      "outputs": [
        {
          "output_type": "stream",
          "name": "stdout",
          "text": [
            "Model: \"sequential_2\"\n",
            "_________________________________________________________________\n",
            " Layer (type)                Output Shape              Param #   \n",
            "=================================================================\n",
            " embedding_2 (Embedding)     (None, 50, 16)            16000     \n",
            "                                                                 \n",
            " global_average_pooling1d_2   (None, 16)               0         \n",
            " (GlobalAveragePooling1D)                                        \n",
            "                                                                 \n",
            " dense_4 (Dense)             (None, 6)                 102       \n",
            "                                                                 \n",
            " dense_5 (Dense)             (None, 1)                 7         \n",
            "                                                                 \n",
            "=================================================================\n",
            "Total params: 16,109\n",
            "Trainable params: 16,109\n",
            "Non-trainable params: 0\n",
            "_________________________________________________________________\n",
            "Epoch 1/30\n",
            "50/50 [==============================] - 12s 147ms/step - loss: 0.6927 - accuracy: 0.5116 - val_loss: 0.6959 - val_accuracy: 0.4110\n",
            "Epoch 2/30\n",
            "50/50 [==============================] - 4s 78ms/step - loss: 0.6905 - accuracy: 0.5223 - val_loss: 0.6984 - val_accuracy: 0.4110\n",
            "Epoch 3/30\n",
            "50/50 [==============================] - 4s 73ms/step - loss: 0.6868 - accuracy: 0.5386 - val_loss: 0.6937 - val_accuracy: 0.4687\n",
            "Epoch 4/30\n",
            "50/50 [==============================] - 3s 65ms/step - loss: 0.6788 - accuracy: 0.5876 - val_loss: 0.6888 - val_accuracy: 0.5038\n",
            "Epoch 5/30\n",
            "50/50 [==============================] - 1s 22ms/step - loss: 0.6659 - accuracy: 0.6328 - val_loss: 0.6791 - val_accuracy: 0.5363\n",
            "Epoch 6/30\n",
            "50/50 [==============================] - 1s 15ms/step - loss: 0.6468 - accuracy: 0.7106 - val_loss: 0.6640 - val_accuracy: 0.5890\n",
            "Epoch 7/30\n",
            "50/50 [==============================] - 1s 25ms/step - loss: 0.6226 - accuracy: 0.7520 - val_loss: 0.6582 - val_accuracy: 0.5589\n",
            "Epoch 8/30\n",
            "50/50 [==============================] - 0s 8ms/step - loss: 0.5904 - accuracy: 0.7721 - val_loss: 0.6199 - val_accuracy: 0.6867\n",
            "Epoch 9/30\n",
            "50/50 [==============================] - 1s 29ms/step - loss: 0.5543 - accuracy: 0.8067 - val_loss: 0.5905 - val_accuracy: 0.7744\n",
            "Epoch 10/30\n",
            "50/50 [==============================] - 1s 12ms/step - loss: 0.5169 - accuracy: 0.8336 - val_loss: 0.5632 - val_accuracy: 0.7820\n",
            "Epoch 11/30\n",
            "50/50 [==============================] - 1s 15ms/step - loss: 0.4758 - accuracy: 0.8437 - val_loss: 0.5412 - val_accuracy: 0.7845\n",
            "Epoch 12/30\n",
            "50/50 [==============================] - 1s 23ms/step - loss: 0.4395 - accuracy: 0.8613 - val_loss: 0.5470 - val_accuracy: 0.7193\n",
            "Epoch 13/30\n",
            "50/50 [==============================] - 1s 18ms/step - loss: 0.4073 - accuracy: 0.8600 - val_loss: 0.5147 - val_accuracy: 0.7694\n",
            "Epoch 14/30\n",
            "50/50 [==============================] - 1s 18ms/step - loss: 0.3794 - accuracy: 0.8657 - val_loss: 0.5088 - val_accuracy: 0.7569\n",
            "Epoch 15/30\n",
            "50/50 [==============================] - 1s 11ms/step - loss: 0.3543 - accuracy: 0.8801 - val_loss: 0.5112 - val_accuracy: 0.7544\n",
            "Epoch 16/30\n",
            "50/50 [==============================] - 0s 9ms/step - loss: 0.3338 - accuracy: 0.8839 - val_loss: 0.5034 - val_accuracy: 0.7569\n",
            "Epoch 17/30\n",
            "50/50 [==============================] - 0s 9ms/step - loss: 0.3154 - accuracy: 0.8889 - val_loss: 0.5041 - val_accuracy: 0.7569\n",
            "Epoch 18/30\n",
            "50/50 [==============================] - 0s 6ms/step - loss: 0.2996 - accuracy: 0.8889 - val_loss: 0.5002 - val_accuracy: 0.7569\n",
            "Epoch 19/30\n",
            "50/50 [==============================] - 0s 8ms/step - loss: 0.2833 - accuracy: 0.9014 - val_loss: 0.5004 - val_accuracy: 0.7569\n",
            "Epoch 20/30\n",
            "50/50 [==============================] - 0s 5ms/step - loss: 0.2692 - accuracy: 0.9071 - val_loss: 0.5090 - val_accuracy: 0.7544\n",
            "Epoch 21/30\n",
            "50/50 [==============================] - 0s 8ms/step - loss: 0.2576 - accuracy: 0.9090 - val_loss: 0.5110 - val_accuracy: 0.7594\n",
            "Epoch 22/30\n",
            "50/50 [==============================] - 0s 8ms/step - loss: 0.2480 - accuracy: 0.9140 - val_loss: 0.5166 - val_accuracy: 0.7569\n",
            "Epoch 23/30\n",
            "50/50 [==============================] - 1s 15ms/step - loss: 0.2365 - accuracy: 0.9171 - val_loss: 0.5184 - val_accuracy: 0.7569\n",
            "Epoch 24/30\n",
            "50/50 [==============================] - 1s 12ms/step - loss: 0.2274 - accuracy: 0.9203 - val_loss: 0.5197 - val_accuracy: 0.7569\n",
            "Epoch 25/30\n",
            "50/50 [==============================] - 0s 9ms/step - loss: 0.2191 - accuracy: 0.9240 - val_loss: 0.5320 - val_accuracy: 0.7594\n",
            "Epoch 26/30\n",
            "50/50 [==============================] - 1s 11ms/step - loss: 0.2094 - accuracy: 0.9322 - val_loss: 0.5417 - val_accuracy: 0.7494\n",
            "Epoch 27/30\n",
            "50/50 [==============================] - 0s 9ms/step - loss: 0.2015 - accuracy: 0.9297 - val_loss: 0.5423 - val_accuracy: 0.7519\n",
            "Epoch 28/30\n",
            "50/50 [==============================] - 0s 6ms/step - loss: 0.1953 - accuracy: 0.9335 - val_loss: 0.5703 - val_accuracy: 0.7469\n",
            "Epoch 29/30\n",
            "50/50 [==============================] - 0s 8ms/step - loss: 0.1885 - accuracy: 0.9429 - val_loss: 0.5607 - val_accuracy: 0.7544\n",
            "Epoch 30/30\n",
            "50/50 [==============================] - 1s 11ms/step - loss: 0.1820 - accuracy: 0.9460 - val_loss: 0.5760 - val_accuracy: 0.7469\n"
          ]
        },
        {
          "output_type": "display_data",
          "data": {
            "text/plain": [
              "<Figure size 432x288 with 1 Axes>"
            ],
            "image/png": "[encoded data removed]"
          },
          "metadata": {
            "needs_background": "light"
          }
        },
        {
          "output_type": "display_data",
          "data": {
            "text/plain": [
              "<Figure size 432x288 with 1 Axes>"
            ],
            "image/png": "[encoded data removed]"
          },
          "metadata": {
            "needs_background": "light"
          }
        },
        {
          "output_type": "stream",
          "name": "stdout",
          "text": [
            "1/1 [==============================] - 0s 86ms/step\n",
            "I love this phone   [0.8680906]\n",
            "Everything was cold   [0.1037043]\n",
            "Everything was hot exactly as I wanted   [0.3081045]\n",
            "Everything was green   [0.0890369]\n",
            "the host seated us immediately   [0.3887572]\n",
            "they gave us free chocolate cake   [0.68913686]\n",
            "we couldn't hear each other talk because of the shouting in the kitchen   [0.0107198]\n"
          ]
        }
      ]
    },
    {
      "cell_type": "code",
      "source": [
        "lstm_model = tf.keras.Sequential([\n",
        "    tf.keras.layers.Embedding(vocab_size, embedding_dim, input_length=max_length),\n",
        "    tf.keras.layers.Bidirectional(tf.keras.layers.LSTM(embedding_dim)),\n",
        "    tf.keras.layers.Dense(6, activation='relu'),\n",
        "    tf.keras.layers.Dense(1, activation='sigmoid')\n",
        "])\n",
        "\n",
        "\n",
        "fit_model_and_show_results(lstm_model, fake_reviews)"
      ],
      "metadata": {
        "colab": {
          "base_uri": "https://localhost:8080/",
          "height": 1000
        },
        "id": "KsENE8W7iOEg",
        "outputId": "3031468c-e7eb-4e90-8293-104faa9d26df"
      },
      "execution_count": 44,
      "outputs": [
        {
          "output_type": "stream",
          "name": "stdout",
          "text": [
            "Model: \"sequential_3\"\n",
            "_________________________________________________________________\n",
            " Layer (type)                Output Shape              Param #   \n",
            "=================================================================\n",
            " embedding_3 (Embedding)     (None, 50, 16)            16000     \n",
            "                                                                 \n",
            " bidirectional (Bidirectiona  (None, 32)               4224      \n",
            " l)                                                              \n",
            "                                                                 \n",
            " dense_6 (Dense)             (None, 6)                 198       \n",
            "                                                                 \n",
            " dense_7 (Dense)             (None, 1)                 7         \n",
            "                                                                 \n",
            "=================================================================\n",
            "Total params: 20,429\n",
            "Trainable params: 20,429\n",
            "Non-trainable params: 0\n",
            "_________________________________________________________________\n",
            "Epoch 1/30\n",
            "50/50 [==============================] - 12s 112ms/step - loss: 0.6903 - accuracy: 0.5286 - val_loss: 0.6927 - val_accuracy: 0.4511\n",
            "Epoch 2/30\n",
            "50/50 [==============================] - 4s 71ms/step - loss: 0.6417 - accuracy: 0.6265 - val_loss: 0.6180 - val_accuracy: 0.6516\n",
            "Epoch 3/30\n",
            "50/50 [==============================] - 3s 49ms/step - loss: 0.4745 - accuracy: 0.7991 - val_loss: 0.4961 - val_accuracy: 0.7870\n",
            "Epoch 4/30\n",
            "50/50 [==============================] - 1s 27ms/step - loss: 0.3615 - accuracy: 0.8519 - val_loss: 0.4824 - val_accuracy: 0.7820\n",
            "Epoch 5/30\n",
            "50/50 [==============================] - 1s 24ms/step - loss: 0.2768 - accuracy: 0.8939 - val_loss: 0.5815 - val_accuracy: 0.7644\n",
            "Epoch 6/30\n",
            "50/50 [==============================] - 1s 25ms/step - loss: 0.2148 - accuracy: 0.9209 - val_loss: 0.6353 - val_accuracy: 0.7719\n",
            "Epoch 7/30\n",
            "50/50 [==============================] - 1s 19ms/step - loss: 0.1803 - accuracy: 0.9397 - val_loss: 0.6979 - val_accuracy: 0.7694\n",
            "Epoch 8/30\n",
            "50/50 [==============================] - 1s 19ms/step - loss: 0.1511 - accuracy: 0.9517 - val_loss: 0.8543 - val_accuracy: 0.7594\n",
            "Epoch 9/30\n",
            "50/50 [==============================] - 1s 20ms/step - loss: 0.1323 - accuracy: 0.9579 - val_loss: 0.8320 - val_accuracy: 0.7544\n",
            "Epoch 10/30\n",
            "50/50 [==============================] - 1s 15ms/step - loss: 0.1123 - accuracy: 0.9686 - val_loss: 0.8600 - val_accuracy: 0.7519\n",
            "Epoch 11/30\n",
            "50/50 [==============================] - 1s 20ms/step - loss: 0.1275 - accuracy: 0.9630 - val_loss: 1.1111 - val_accuracy: 0.7594\n",
            "Epoch 12/30\n",
            "50/50 [==============================] - 1s 21ms/step - loss: 0.1069 - accuracy: 0.9730 - val_loss: 0.9637 - val_accuracy: 0.7544\n",
            "Epoch 13/30\n",
            "50/50 [==============================] - 1s 19ms/step - loss: 0.0877 - accuracy: 0.9774 - val_loss: 1.0976 - val_accuracy: 0.7569\n",
            "Epoch 14/30\n",
            "50/50 [==============================] - 1s 21ms/step - loss: 0.0720 - accuracy: 0.9856 - val_loss: 1.1867 - val_accuracy: 0.7594\n",
            "Epoch 15/30\n",
            "50/50 [==============================] - 1s 21ms/step - loss: 0.0615 - accuracy: 0.9887 - val_loss: 1.2041 - val_accuracy: 0.7469\n",
            "Epoch 16/30\n",
            "50/50 [==============================] - 1s 13ms/step - loss: 0.0544 - accuracy: 0.9906 - val_loss: 1.2572 - val_accuracy: 0.7619\n",
            "Epoch 17/30\n",
            "50/50 [==============================] - 1s 18ms/step - loss: 0.0565 - accuracy: 0.9881 - val_loss: 1.2205 - val_accuracy: 0.7544\n",
            "Epoch 18/30\n",
            "50/50 [==============================] - 1s 15ms/step - loss: 0.0683 - accuracy: 0.9849 - val_loss: 1.3815 - val_accuracy: 0.7519\n",
            "Epoch 19/30\n",
            "50/50 [==============================] - 1s 15ms/step - loss: 0.0649 - accuracy: 0.9849 - val_loss: 1.4481 - val_accuracy: 0.7393\n",
            "Epoch 20/30\n",
            "50/50 [==============================] - 1s 12ms/step - loss: 0.0771 - accuracy: 0.9768 - val_loss: 1.0820 - val_accuracy: 0.7519\n",
            "Epoch 21/30\n",
            "50/50 [==============================] - 1s 13ms/step - loss: 0.0882 - accuracy: 0.9761 - val_loss: 1.4197 - val_accuracy: 0.7519\n",
            "Epoch 22/30\n",
            "50/50 [==============================] - 1s 10ms/step - loss: 0.0675 - accuracy: 0.9837 - val_loss: 1.4468 - val_accuracy: 0.7469\n",
            "Epoch 23/30\n",
            "50/50 [==============================] - 1s 12ms/step - loss: 0.0697 - accuracy: 0.9849 - val_loss: 1.4483 - val_accuracy: 0.7519\n",
            "Epoch 24/30\n",
            "50/50 [==============================] - 1s 11ms/step - loss: 0.0633 - accuracy: 0.9849 - val_loss: 1.4973 - val_accuracy: 0.7494\n",
            "Epoch 25/30\n",
            "50/50 [==============================] - 1s 11ms/step - loss: 0.0535 - accuracy: 0.9893 - val_loss: 1.4971 - val_accuracy: 0.7494\n",
            "Epoch 26/30\n",
            "50/50 [==============================] - 1s 17ms/step - loss: 0.0461 - accuracy: 0.9918 - val_loss: 1.5711 - val_accuracy: 0.7544\n",
            "Epoch 27/30\n",
            "50/50 [==============================] - 1s 20ms/step - loss: 0.0444 - accuracy: 0.9918 - val_loss: 1.6110 - val_accuracy: 0.7544\n",
            "Epoch 28/30\n",
            "50/50 [==============================] - 2s 33ms/step - loss: 0.0431 - accuracy: 0.9925 - val_loss: 1.6984 - val_accuracy: 0.7494\n",
            "Epoch 29/30\n",
            "50/50 [==============================] - 2s 30ms/step - loss: 0.0426 - accuracy: 0.9925 - val_loss: 1.7278 - val_accuracy: 0.7519\n",
            "Epoch 30/30\n",
            "50/50 [==============================] - 1s 11ms/step - loss: 0.0419 - accuracy: 0.9925 - val_loss: 1.6815 - val_accuracy: 0.7544\n"
          ]
        },
        {
          "output_type": "display_data",
          "data": {
            "text/plain": [
              "<Figure size 432x288 with 1 Axes>"
            ],
            "image/png": "[encoded data removed]"
          },
          "metadata": {
            "needs_background": "light"
          }
        },
        {
          "output_type": "display_data",
          "data": {
            "text/plain": [
              "<Figure size 432x288 with 1 Axes>"
            ],
            "image/png": "[encoded data removed]"
          },
          "metadata": {
            "needs_background": "light"
          }
        },
        {
          "output_type": "stream",
          "name": "stdout",
          "text": [
            "1/1 [==============================] - 1s 744ms/step\n",
            "I love this phone   [0.9998814]\n",
            "Everything was cold   [0.01876257]\n",
            "Everything was hot exactly as I wanted   [0.18192984]\n",
            "Everything was green   [0.02404845]\n",
            "the host seated us immediately   [0.9998416]\n",
            "they gave us free chocolate cake   [0.7334019]\n",
            "we couldn't hear each other talk because of the shouting in the kitchen   [0.01147015]\n"
          ]
        }
      ]
    },
    {
      "cell_type": "code",
      "source": [
        "sequences_lstm_model = tf.keras.Sequential([\n",
        "    tf.keras.layers.Embedding(vocab_size, embedding_dim, input_length=max_length),\n",
        "    tf.keras.layers.Bidirectional(tf.keras.layers.LSTM(embedding_dim, \n",
        "                                                       return_sequences=True)),\n",
        "    tf.keras.layers.Bidirectional(tf.keras.layers.LSTM(embedding_dim)),\n",
        "    tf.keras.layers.Dense(6, activation='relu'),\n",
        "    tf.keras.layers.Dense(1, activation='sigmoid')\n",
        "])\n",
        "\n",
        "\n",
        "fit_model_and_show_results(sequences_lstm_model, fake_reviews)"
      ],
      "metadata": {
        "colab": {
          "base_uri": "https://localhost:8080/",
          "height": 1000
        },
        "id": "tWJIO7snit_Y",
        "outputId": "5f86594b-08c4-4203-d89e-f7fd4d5098fa"
      },
      "execution_count": 45,
      "outputs": [
        {
          "output_type": "stream",
          "name": "stdout",
          "text": [
            "Model: \"sequential_4\"\n",
            "_________________________________________________________________\n",
            " Layer (type)                Output Shape              Param #   \n",
            "=================================================================\n",
            " embedding_4 (Embedding)     (None, 50, 16)            16000     \n",
            "                                                                 \n",
            " bidirectional_1 (Bidirectio  (None, 50, 32)           4224      \n",
            " nal)                                                            \n",
            "                                                                 \n",
            " bidirectional_2 (Bidirectio  (None, 32)               6272      \n",
            " nal)                                                            \n",
            "                                                                 \n",
            " dense_8 (Dense)             (None, 6)                 198       \n",
            "                                                                 \n",
            " dense_9 (Dense)             (None, 1)                 7         \n",
            "                                                                 \n",
            "=================================================================\n",
            "Total params: 26,701\n",
            "Trainable params: 26,701\n",
            "Non-trainable params: 0\n",
            "_________________________________________________________________\n",
            "Epoch 1/30\n",
            "50/50 [==============================] - 14s 145ms/step - loss: 0.6911 - accuracy: 0.5229 - val_loss: 0.6960 - val_accuracy: 0.4110\n",
            "Epoch 2/30\n",
            "50/50 [==============================] - 3s 62ms/step - loss: 0.6334 - accuracy: 0.6623 - val_loss: 0.6152 - val_accuracy: 0.7419\n",
            "Epoch 3/30\n",
            "50/50 [==============================] - 2s 39ms/step - loss: 0.4597 - accuracy: 0.8267 - val_loss: 0.5355 - val_accuracy: 0.7519\n",
            "Epoch 4/30\n",
            "50/50 [==============================] - 4s 73ms/step - loss: 0.3671 - accuracy: 0.8632 - val_loss: 0.5409 - val_accuracy: 0.7644\n",
            "Epoch 5/30\n",
            "50/50 [==============================] - 2s 36ms/step - loss: 0.2958 - accuracy: 0.8939 - val_loss: 0.6469 - val_accuracy: 0.7318\n",
            "Epoch 6/30\n",
            "50/50 [==============================] - 2s 30ms/step - loss: 0.2457 - accuracy: 0.9203 - val_loss: 0.6767 - val_accuracy: 0.7444\n",
            "Epoch 7/30\n",
            "50/50 [==============================] - 1s 24ms/step - loss: 0.2118 - accuracy: 0.9303 - val_loss: 0.7140 - val_accuracy: 0.7318\n",
            "Epoch 8/30\n",
            "50/50 [==============================] - 1s 26ms/step - loss: 0.1995 - accuracy: 0.9353 - val_loss: 0.6698 - val_accuracy: 0.7343\n",
            "Epoch 9/30\n",
            "50/50 [==============================] - 2s 45ms/step - loss: 0.1749 - accuracy: 0.9523 - val_loss: 0.7765 - val_accuracy: 0.7343\n",
            "Epoch 10/30\n",
            "50/50 [==============================] - 1s 25ms/step - loss: 0.1709 - accuracy: 0.9510 - val_loss: 0.7721 - val_accuracy: 0.7343\n",
            "Epoch 11/30\n",
            "50/50 [==============================] - 2s 33ms/step - loss: 0.1986 - accuracy: 0.9347 - val_loss: 0.9043 - val_accuracy: 0.7243\n",
            "Epoch 12/30\n",
            "50/50 [==============================] - 1s 21ms/step - loss: 0.1492 - accuracy: 0.9592 - val_loss: 0.8856 - val_accuracy: 0.7218\n",
            "Epoch 13/30\n",
            "50/50 [==============================] - 1s 20ms/step - loss: 0.1757 - accuracy: 0.9498 - val_loss: 0.7432 - val_accuracy: 0.7293\n",
            "Epoch 14/30\n",
            "50/50 [==============================] - 1s 23ms/step - loss: 0.1730 - accuracy: 0.9492 - val_loss: 0.9189 - val_accuracy: 0.7419\n",
            "Epoch 15/30\n",
            "50/50 [==============================] - 1s 16ms/step - loss: 0.1592 - accuracy: 0.9517 - val_loss: 0.9130 - val_accuracy: 0.7293\n",
            "Epoch 16/30\n",
            "50/50 [==============================] - 1s 19ms/step - loss: 0.1251 - accuracy: 0.9667 - val_loss: 0.9833 - val_accuracy: 0.7393\n",
            "Epoch 17/30\n",
            "50/50 [==============================] - 1s 15ms/step - loss: 0.1164 - accuracy: 0.9692 - val_loss: 1.1076 - val_accuracy: 0.7218\n",
            "Epoch 18/30\n",
            "50/50 [==============================] - 1s 17ms/step - loss: 0.1108 - accuracy: 0.9724 - val_loss: 1.0393 - val_accuracy: 0.7368\n",
            "Epoch 19/30\n",
            "50/50 [==============================] - 1s 16ms/step - loss: 0.1067 - accuracy: 0.9749 - val_loss: 1.0714 - val_accuracy: 0.7293\n",
            "Epoch 20/30\n",
            "50/50 [==============================] - 1s 21ms/step - loss: 0.1164 - accuracy: 0.9699 - val_loss: 1.0431 - val_accuracy: 0.7268\n",
            "Epoch 21/30\n",
            "50/50 [==============================] - 1s 15ms/step - loss: 0.1097 - accuracy: 0.9724 - val_loss: 1.1294 - val_accuracy: 0.7318\n",
            "Epoch 22/30\n",
            "50/50 [==============================] - 1s 17ms/step - loss: 0.1080 - accuracy: 0.9730 - val_loss: 1.1396 - val_accuracy: 0.7343\n",
            "Epoch 23/30\n",
            "50/50 [==============================] - 1s 17ms/step - loss: 0.1560 - accuracy: 0.9586 - val_loss: 1.0942 - val_accuracy: 0.7293\n",
            "Epoch 24/30\n",
            "50/50 [==============================] - 1s 26ms/step - loss: 0.1620 - accuracy: 0.9498 - val_loss: 0.9818 - val_accuracy: 0.7444\n",
            "Epoch 25/30\n",
            "50/50 [==============================] - 1s 23ms/step - loss: 0.1273 - accuracy: 0.9655 - val_loss: 0.9782 - val_accuracy: 0.7368\n",
            "Epoch 26/30\n",
            "50/50 [==============================] - 2s 45ms/step - loss: 0.1051 - accuracy: 0.9736 - val_loss: 0.9946 - val_accuracy: 0.7268\n",
            "Epoch 27/30\n",
            "50/50 [==============================] - 1s 18ms/step - loss: 0.1039 - accuracy: 0.9743 - val_loss: 1.0146 - val_accuracy: 0.7343\n",
            "Epoch 28/30\n",
            "50/50 [==============================] - 1s 24ms/step - loss: 0.1088 - accuracy: 0.9743 - val_loss: 1.0421 - val_accuracy: 0.7419\n",
            "Epoch 29/30\n",
            "50/50 [==============================] - 1s 20ms/step - loss: 0.1036 - accuracy: 0.9736 - val_loss: 1.0898 - val_accuracy: 0.7393\n",
            "Epoch 30/30\n",
            "50/50 [==============================] - 1s 19ms/step - loss: 0.1036 - accuracy: 0.9736 - val_loss: 0.9998 - val_accuracy: 0.7469\n"
          ]
        },
        {
          "output_type": "display_data",
          "data": {
            "text/plain": [
              "<Figure size 432x288 with 1 Axes>"
            ],
            "image/png": "[encoded data removed]"
          },
          "metadata": {
            "needs_background": "light"
          }
        },
        {
          "output_type": "display_data",
          "data": {
            "text/plain": [
              "<Figure size 432x288 with 1 Axes>"
            ],
            "image/png": "[encoded data removed]"
          },
          "metadata": {
            "needs_background": "light"
          }
        },
        {
          "output_type": "stream",
          "name": "stdout",
          "text": [
            "1/1 [==============================] - 1s 1s/step\n",
            "I love this phone   [0.99521625]\n",
            "Everything was cold   [0.04603747]\n",
            "Everything was hot exactly as I wanted   [0.03536613]\n",
            "Everything was green   [0.03693009]\n",
            "the host seated us immediately   [0.03770425]\n",
            "they gave us free chocolate cake   [0.9956546]\n",
            "we couldn't hear each other talk because of the shouting in the kitchen   [0.03319842]\n"
          ]
        }
      ]
    },
    {
      "cell_type": "code",
      "source": [
        "test_sentences = [\"nice environment\", \"waste time\", \n",
        "                  \"The movie is as exciting as the one we saw yesterday\", \n",
        "                  \"The movement is so loud that the thief wakes up the girl\", \n",
        "                  \"I would not say the expensive price is not worth for the laptop\", \n",
        "                  \"for a phone that is as expensive as this one I expect it to be much easier to use than this thing is\",\n",
        "                  \"I would never go that place again\"]"
      ],
      "metadata": {
        "id": "T6ZMEbTmjhf2"
      },
      "execution_count": 48,
      "outputs": []
    },
    {
      "cell_type": "code",
      "source": [
        "predict_new_sentences(embedding_model, test_sentences)\n",
        "predict_new_sentences(lstm_model, test_sentences)\n",
        "predict_new_sentences(sequences_lstm_model, test_sentences)"
      ],
      "metadata": {
        "colab": {
          "base_uri": "https://localhost:8080/"
        },
        "id": "tpExrU5LjaCw",
        "outputId": "2aa8021e-0403-4369-b21c-10d3aadd6343"
      },
      "execution_count": 49,
      "outputs": [
        {
          "output_type": "stream",
          "name": "stdout",
          "text": [
            "1/1 [==============================] - 0s 21ms/step\n",
            "nice environment   [0.88190436]\n",
            "waste time   [0.1697473]\n",
            "The movie is as exciting as the one we saw yesterday   [0.78438175]\n",
            "The movement is so loud that the thief wakes up the girl   [0.4414955]\n",
            "I would not say the expensive price is not worth for the laptop   [0.11886784]\n",
            "for a phone that is as expensive as this one I expect it to be much easier to use than this thing is   [0.5653683]\n",
            "I would never go that place again   [0.15188178]\n",
            "1/1 [==============================] - 0s 23ms/step\n",
            "nice environment   [0.96410775]\n",
            "waste time   [0.01503132]\n",
            "The movie is as exciting as the one we saw yesterday   [0.99999785]\n",
            "The movement is so loud that the thief wakes up the girl   [0.999554]\n",
            "I would not say the expensive price is not worth for the laptop   [0.01101692]\n",
            "for a phone that is as expensive as this one I expect it to be much easier to use than this thing is   [0.01765161]\n",
            "I would never go that place again   [0.01532855]\n",
            "1/1 [==============================] - 0s 24ms/step\n",
            "nice environment   [0.99560696]\n",
            "waste time   [0.07510527]\n",
            "The movie is as exciting as the one we saw yesterday   [0.995456]\n",
            "The movement is so loud that the thief wakes up the girl   [0.03570483]\n",
            "I would not say the expensive price is not worth for the laptop   [0.03445021]\n",
            "for a phone that is as expensive as this one I expect it to be much easier to use than this thing is   [0.04319194]\n",
            "I would never go that place again   [0.03587764]\n"
          ]
        }
      ]
    }
  ]
}