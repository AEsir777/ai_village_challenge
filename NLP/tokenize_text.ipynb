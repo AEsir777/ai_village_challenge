{
  "nbformat": 4,
  "nbformat_minor": 0,
  "metadata": {
    "colab": {
      "provenance": []
    },
    "kernelspec": {
      "name": "python3",
      "display_name": "Python 3"
    },
    "language_info": {
      "name": "python"
    }
  },
  "cells": [
    {
      "cell_type": "code",
      "execution_count": 8,
      "metadata": {
        "id": "iVzQpslkicm-"
      },
      "outputs": [],
      "source": [
        "import tensorflow as tf\n",
        "import numpy as np"
      ]
    },
    {
      "cell_type": "code",
      "source": [
        "sentences = [\"my name is kebing\", \"I don't like green onion\", \"I like ice cream\"]"
      ],
      "metadata": {
        "id": "tFIo9TdFik63"
      },
      "execution_count": 5,
      "outputs": []
    },
    {
      "cell_type": "code",
      "source": [
        "# max_tokens: maximum size of the vocabulary for this layer\n",
        "tokenizer = tf.keras.layers.TextVectorization(max_tokens=10)\n",
        "# computes a vocabulary of string terms from tokens in a datset\n",
        "tokenizer.adapt(sentences)"
      ],
      "metadata": {
        "id": "_Mn1br_ni3BR"
      },
      "execution_count": 7,
      "outputs": []
    },
    {
      "cell_type": "code",
      "source": [
        "tokenizer(sentences)"
      ],
      "metadata": {
        "colab": {
          "base_uri": "https://localhost:8080/"
        },
        "id": "UgiUMHm6lHiu",
        "outputId": "9094ab6e-64b8-4233-eb9e-6b5bb56d3990"
      },
      "execution_count": 14,
      "outputs": [
        {
          "output_type": "execute_result",
          "data": {
            "text/plain": [
              "<tf.Tensor: shape=(3, 5), dtype=int64, numpy=\n",
              "array([[6, 5, 8, 7, 0],\n",
              "       [3, 1, 2, 1, 4],\n",
              "       [3, 2, 9, 1, 0]])>"
            ]
          },
          "metadata": {},
          "execution_count": 14
        }
      ]
    },
    {
      "cell_type": "code",
      "source": [
        "# OOV is [UNK]\n",
        "tokenizer(\"I like strawberries\")"
      ],
      "metadata": {
        "colab": {
          "base_uri": "https://localhost:8080/"
        },
        "id": "LUhS_kven3FW",
        "outputId": "7d7ed5a6-b15e-4088-ddfd-99149b31fdaa"
      },
      "execution_count": 17,
      "outputs": [
        {
          "output_type": "execute_result",
          "data": {
            "text/plain": [
              "<tf.Tensor: shape=(3,), dtype=int64, numpy=array([3, 2, 1])>"
            ]
          },
          "metadata": {},
          "execution_count": 17
        }
      ]
    },
    {
      "cell_type": "code",
      "source": [
        "tokenizer.get_vocabulary(include_special_tokens=True)"
      ],
      "metadata": {
        "colab": {
          "base_uri": "https://localhost:8080/"
        },
        "id": "diC3Zl2knZEv",
        "outputId": "2aa7b628-22d7-45dd-a1ac-5611006515e0"
      },
      "execution_count": 16,
      "outputs": [
        {
          "output_type": "execute_result",
          "data": {
            "text/plain": [
              "['', '[UNK]', 'like', 'i', 'onion', 'name', 'my', 'kebing', 'is', 'ice']"
            ]
          },
          "metadata": {},
          "execution_count": 16
        }
      ]
    }
  ]
}