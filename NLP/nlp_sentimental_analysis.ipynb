{
  "nbformat": 4,
  "nbformat_minor": 0,
  "metadata": {
    "colab": {
      "provenance": []
    },
    "kernelspec": {
      "name": "python3",
      "display_name": "Python 3"
    },
    "language_info": {
      "name": "python"
    },
    "accelerator": "GPU",
    "gpuClass": "standard"
  },
  "cells": [
    {
      "cell_type": "code",
      "execution_count": 1,
      "metadata": {
        "id": "H0wl_WHx3J0M"
      },
      "outputs": [],
      "source": [
        "import tensorflow as tf\n",
        "import numpy as np\n",
        "import pandas as pd"
      ]
    },
    {
      "cell_type": "code",
      "source": [
        "# retrive dataset\n",
        "!wget --no-check-certificate \\\n",
        "    -O /tmp/sentiment.csv https://drive.google.com/uc?id=13ySLC_ue6Umt9RJYSeM2t-V0kCv-4C-P"
      ],
      "metadata": {
        "colab": {
          "base_uri": "https://localhost:8080/"
        },
        "id": "ldbSu4126-Hp",
        "outputId": "5973e6be-cb41-4fbc-b5ac-72627edd92df"
      },
      "execution_count": 2,
      "outputs": [
        {
          "output_type": "stream",
          "name": "stdout",
          "text": [
            "--2023-02-08 04:52:32--  https://drive.google.com/uc?id=13ySLC_ue6Umt9RJYSeM2t-V0kCv-4C-P\n",
            "Resolving drive.google.com (drive.google.com)... 108.177.119.113, 108.177.119.100, 108.177.119.138, ...\n",
            "Connecting to drive.google.com (drive.google.com)|108.177.119.113|:443... connected.\n",
            "HTTP request sent, awaiting response... 303 See Other\n",
            "Location: https://doc-08-ak-docs.googleusercontent.com/docs/securesc/ha0ro937gcuc7l7deffksulhg5h7mbp1/gkuqar4omfrrogv2n030tlic4ts5g7vd/1675831950000/11118900490791463723/*/13ySLC_ue6Umt9RJYSeM2t-V0kCv-4C-P?uuid=92d262ce-98fc-4ac6-b802-d97579f46de6 [following]\n",
            "Warning: wildcards not supported in HTTP.\n",
            "--2023-02-08 04:52:33--  https://doc-08-ak-docs.googleusercontent.com/docs/securesc/ha0ro937gcuc7l7deffksulhg5h7mbp1/gkuqar4omfrrogv2n030tlic4ts5g7vd/1675831950000/11118900490791463723/*/13ySLC_ue6Umt9RJYSeM2t-V0kCv-4C-P?uuid=92d262ce-98fc-4ac6-b802-d97579f46de6\n",
            "Resolving doc-08-ak-docs.googleusercontent.com (doc-08-ak-docs.googleusercontent.com)... 142.250.145.132, 2a00:1450:4013:c14::84\n",
            "Connecting to doc-08-ak-docs.googleusercontent.com (doc-08-ak-docs.googleusercontent.com)|142.250.145.132|:443... connected.\n",
            "HTTP request sent, awaiting response... 200 OK\n",
            "Length: 127831 (125K) [text/csv]\n",
            "Saving to: ‘/tmp/sentiment.csv’\n",
            "\n",
            "/tmp/sentiment.csv  100%[===================>] 124.83K  --.-KB/s    in 0.002s  \n",
            "\n",
            "2023-02-08 04:52:33 (79.6 MB/s) - ‘/tmp/sentiment.csv’ saved [127831/127831]\n",
            "\n"
          ]
        }
      ]
    },
    {
      "cell_type": "code",
      "source": [
        "ds = pd.read_csv(\"/tmp/sentiment.csv\")\n",
        "ds.head()"
      ],
      "metadata": {
        "colab": {
          "base_uri": "https://localhost:8080/",
          "height": 206
        },
        "id": "Bvsj5HR97wWJ",
        "outputId": "6772cb1e-4d53-4bbf-ed60-95ba514919e2"
      },
      "execution_count": 3,
      "outputs": [
        {
          "output_type": "execute_result",
          "data": {
            "text/plain": [
              "   Unnamed: 0                                               text  sentiment\n",
              "0           0  So there is no way for me to plug it in here i...          0\n",
              "1           1                         Good case Excellent value.          1\n",
              "2           2                             Great for the jawbone.          1\n",
              "3           3  Tied to charger for conversations lasting more...          0\n",
              "4           4                                  The mic is great.          1"
            ],
            "text/html": [
              "\n",
              "  <div id=\"df-d397bfb7-9857-4f7c-b725-f8fe13f4b56a\">\n",
              "    <div class=\"colab-df-container\">\n",
              "      <div>\n",
              "<style scoped>\n",
              "    .dataframe tbody tr th:only-of-type {\n",
              "        vertical-align: middle;\n",
              "    }\n",
              "\n",
              "    .dataframe tbody tr th {\n",
              "        vertical-align: top;\n",
              "    }\n",
              "\n",
              "    .dataframe thead th {\n",
              "        text-align: right;\n",
              "    }\n",
              "</style>\n",
              "<table border=\"1\" class=\"dataframe\">\n",
              "  <thead>\n",
              "    <tr style=\"text-align: right;\">\n",
              "      <th></th>\n",
              "      <th>Unnamed: 0</th>\n",
              "      <th>text</th>\n",
              "      <th>sentiment</th>\n",
              "    </tr>\n",
              "  </thead>\n",
              "  <tbody>\n",
              "    <tr>\n",
              "      <th>0</th>\n",
              "      <td>0</td>\n",
              "      <td>So there is no way for me to plug it in here i...</td>\n",
              "      <td>0</td>\n",
              "    </tr>\n",
              "    <tr>\n",
              "      <th>1</th>\n",
              "      <td>1</td>\n",
              "      <td>Good case Excellent value.</td>\n",
              "      <td>1</td>\n",
              "    </tr>\n",
              "    <tr>\n",
              "      <th>2</th>\n",
              "      <td>2</td>\n",
              "      <td>Great for the jawbone.</td>\n",
              "      <td>1</td>\n",
              "    </tr>\n",
              "    <tr>\n",
              "      <th>3</th>\n",
              "      <td>3</td>\n",
              "      <td>Tied to charger for conversations lasting more...</td>\n",
              "      <td>0</td>\n",
              "    </tr>\n",
              "    <tr>\n",
              "      <th>4</th>\n",
              "      <td>4</td>\n",
              "      <td>The mic is great.</td>\n",
              "      <td>1</td>\n",
              "    </tr>\n",
              "  </tbody>\n",
              "</table>\n",
              "</div>\n",
              "      <button class=\"colab-df-convert\" onclick=\"convertToInteractive('df-d397bfb7-9857-4f7c-b725-f8fe13f4b56a')\"\n",
              "              title=\"Convert this dataframe to an interactive table.\"\n",
              "              style=\"display:none;\">\n",
              "        \n",
              "  <svg xmlns=\"http://www.w3.org/2000/svg\" height=\"24px\"viewBox=\"0 0 24 24\"\n",
              "       width=\"24px\">\n",
              "    <path d=\"M0 0h24v24H0V0z\" fill=\"none\"/>\n",
              "    <path d=\"M18.56 5.44l.94 2.06.94-2.06 2.06-.94-2.06-.94-.94-2.06-.94 2.06-2.06.94zm-11 1L8.5 8.5l.94-2.06 2.06-.94-2.06-.94L8.5 2.5l-.94 2.06-2.06.94zm10 10l.94 2.06.94-2.06 2.06-.94-2.06-.94-.94-2.06-.94 2.06-2.06.94z\"/><path d=\"M17.41 7.96l-1.37-1.37c-.4-.4-.92-.59-1.43-.59-.52 0-1.04.2-1.43.59L10.3 9.45l-7.72 7.72c-.78.78-.78 2.05 0 2.83L4 21.41c.39.39.9.59 1.41.59.51 0 1.02-.2 1.41-.59l7.78-7.78 2.81-2.81c.8-.78.8-2.07 0-2.86zM5.41 20L4 18.59l7.72-7.72 1.47 1.35L5.41 20z\"/>\n",
              "  </svg>\n",
              "      </button>\n",
              "      \n",
              "  <style>\n",
              "    .colab-df-container {\n",
              "      display:flex;\n",
              "      flex-wrap:wrap;\n",
              "      gap: 12px;\n",
              "    }\n",
              "\n",
              "    .colab-df-convert {\n",
              "      background-color: #E8F0FE;\n",
              "      border: none;\n",
              "      border-radius: 50%;\n",
              "      cursor: pointer;\n",
              "      display: none;\n",
              "      fill: #1967D2;\n",
              "      height: 32px;\n",
              "      padding: 0 0 0 0;\n",
              "      width: 32px;\n",
              "    }\n",
              "\n",
              "    .colab-df-convert:hover {\n",
              "      background-color: #E2EBFA;\n",
              "      box-shadow: 0px 1px 2px rgba(60, 64, 67, 0.3), 0px 1px 3px 1px rgba(60, 64, 67, 0.15);\n",
              "      fill: #174EA6;\n",
              "    }\n",
              "\n",
              "    [theme=dark] .colab-df-convert {\n",
              "      background-color: #3B4455;\n",
              "      fill: #D2E3FC;\n",
              "    }\n",
              "\n",
              "    [theme=dark] .colab-df-convert:hover {\n",
              "      background-color: #434B5C;\n",
              "      box-shadow: 0px 1px 3px 1px rgba(0, 0, 0, 0.15);\n",
              "      filter: drop-shadow(0px 1px 2px rgba(0, 0, 0, 0.3));\n",
              "      fill: #FFFFFF;\n",
              "    }\n",
              "  </style>\n",
              "\n",
              "      <script>\n",
              "        const buttonEl =\n",
              "          document.querySelector('#df-d397bfb7-9857-4f7c-b725-f8fe13f4b56a button.colab-df-convert');\n",
              "        buttonEl.style.display =\n",
              "          google.colab.kernel.accessAllowed ? 'block' : 'none';\n",
              "\n",
              "        async function convertToInteractive(key) {\n",
              "          const element = document.querySelector('#df-d397bfb7-9857-4f7c-b725-f8fe13f4b56a');\n",
              "          const dataTable =\n",
              "            await google.colab.kernel.invokeFunction('convertToInteractive',\n",
              "                                                     [key], {});\n",
              "          if (!dataTable) return;\n",
              "\n",
              "          const docLinkHtml = 'Like what you see? Visit the ' +\n",
              "            '<a target=\"_blank\" href=https://colab.research.google.com/notebooks/data_table.ipynb>data table notebook</a>'\n",
              "            + ' to learn more about interactive tables.';\n",
              "          element.innerHTML = '';\n",
              "          dataTable['output_type'] = 'display_data';\n",
              "          await google.colab.output.renderOutput(dataTable, element);\n",
              "          const docLink = document.createElement('div');\n",
              "          docLink.innerHTML = docLinkHtml;\n",
              "          element.appendChild(docLink);\n",
              "        }\n",
              "      </script>\n",
              "    </div>\n",
              "  </div>\n",
              "  "
            ]
          },
          "metadata": {},
          "execution_count": 3
        }
      ]
    },
    {
      "cell_type": "code",
      "source": [
        "sentences = np.array(ds[\"text\"])\n",
        "labels = np.array(ds[\"sentiment\"])"
      ],
      "metadata": {
        "id": "yYUz_Zsv8CYH"
      },
      "execution_count": 4,
      "outputs": []
    },
    {
      "cell_type": "code",
      "source": [
        "# divide into training and test sets\n",
        "size = len(sentences)\n",
        "training_size = int(size * 0.8)\n",
        "\n",
        "training_sentences = sentences[0: training_size]\n",
        "testing_sentences = sentences[training_size: ]\n",
        "\n",
        "\n",
        "training_labels = labels[0: training_size]\n",
        "testing_labels = labels[training_size: ]"
      ],
      "metadata": {
        "id": "vxN_4poI8ssA"
      },
      "execution_count": 5,
      "outputs": []
    },
    {
      "cell_type": "code",
      "source": [
        "vocab_size = 1000\n",
        "embedding_dimention = 16\n",
        "max_sequence_length = 100\n",
        "\n",
        "tf.keras.backend.clear_session()\n",
        "\n",
        "vectorize_layer = tf.keras.layers.TextVectorization(max_tokens=vocab_size, \n",
        "                                                    output_mode='int', \n",
        "                                                    output_sequence_length=max_sequence_length)\n",
        "vectorize_layer.adapt(training_sentences)                                       \n",
        "\n",
        "model = tf.keras.Sequential([\n",
        "    tf.keras.Input(shape=(1,), dtype=tf.string),\n",
        "    vectorize_layer,\n",
        "    tf.keras.layers.Embedding(vocab_size, embedding_dimention, input_length=max_sequence_length),\n",
        "    tf.keras.layers.Flatten(),\n",
        "    tf.keras.layers.Dense(6, activation='relu'),\n",
        "    tf.keras.layers.Dense(1, activation='sigmoid')\n",
        "])\n",
        "\n",
        "model.compile(loss=tf.keras.losses.BinaryCrossentropy(from_logits=False), optimizer='adam',\n",
        "              metrics=['accuracy'])\n",
        "model.summary()"
      ],
      "metadata": {
        "colab": {
          "base_uri": "https://localhost:8080/"
        },
        "id": "APRbsSfJ9pBI",
        "outputId": "ed694a2c-ebb7-43f6-8b7d-e57b7cee6a62"
      },
      "execution_count": null,
      "outputs": [
        {
          "output_type": "stream",
          "name": "stdout",
          "text": [
            "Model: \"sequential\"\n",
            "_________________________________________________________________\n",
            " Layer (type)                Output Shape              Param #   \n",
            "=================================================================\n",
            " text_vectorization (TextVec  (None, 100)              0         \n",
            " torization)                                                     \n",
            "                                                                 \n",
            " embedding (Embedding)       (None, 100, 16)           16000     \n",
            "                                                                 \n",
            " flatten (Flatten)           (None, 1600)              0         \n",
            "                                                                 \n",
            " dense (Dense)               (None, 6)                 9606      \n",
            "                                                                 \n",
            " dense_1 (Dense)             (None, 1)                 7         \n",
            "                                                                 \n",
            "=================================================================\n",
            "Total params: 25,613\n",
            "Trainable params: 25,613\n",
            "Non-trainable params: 0\n",
            "_________________________________________________________________\n"
          ]
        }
      ]
    },
    {
      "cell_type": "code",
      "source": [
        "# from_logits=True improves the performance hugely\n",
        "model.fit(training_sentences, training_labels, epochs=50, validation_data=(testing_sentences, testing_labels))"
      ],
      "metadata": {
        "colab": {
          "base_uri": "https://localhost:8080/"
        },
        "id": "X5bfo_ufA8ZI",
        "outputId": "a5b1fbd4-c80a-480c-be7f-6ced0d58e1c2"
      },
      "execution_count": null,
      "outputs": [
        {
          "output_type": "stream",
          "name": "stdout",
          "text": [
            "Epoch 1/50\n",
            "50/50 [==============================] - 1s 9ms/step - loss: 0.6929 - accuracy: 0.5191 - val_loss: 0.7004 - val_accuracy: 0.4110\n",
            "Epoch 2/50\n",
            "50/50 [==============================] - 0s 5ms/step - loss: 0.6891 - accuracy: 0.5229 - val_loss: 0.7001 - val_accuracy: 0.4110\n",
            "Epoch 3/50\n",
            "50/50 [==============================] - 0s 5ms/step - loss: 0.6812 - accuracy: 0.5304 - val_loss: 0.6919 - val_accuracy: 0.5113\n",
            "Epoch 4/50\n",
            "50/50 [==============================] - 0s 6ms/step - loss: 0.6626 - accuracy: 0.5888 - val_loss: 0.6791 - val_accuracy: 0.5464\n",
            "Epoch 5/50\n",
            "50/50 [==============================] - 0s 6ms/step - loss: 0.5835 - accuracy: 0.8054 - val_loss: 0.6041 - val_accuracy: 0.7093\n",
            "Epoch 6/50\n",
            "50/50 [==============================] - 0s 6ms/step - loss: 0.4431 - accuracy: 0.8675 - val_loss: 0.5291 - val_accuracy: 0.7494\n",
            "Epoch 7/50\n",
            "50/50 [==============================] - 0s 5ms/step - loss: 0.3218 - accuracy: 0.9259 - val_loss: 0.4988 - val_accuracy: 0.7393\n",
            "Epoch 8/50\n",
            "50/50 [==============================] - 0s 6ms/step - loss: 0.2390 - accuracy: 0.9429 - val_loss: 0.4810 - val_accuracy: 0.7569\n",
            "Epoch 9/50\n",
            "50/50 [==============================] - 0s 5ms/step - loss: 0.1849 - accuracy: 0.9567 - val_loss: 0.4667 - val_accuracy: 0.7820\n",
            "Epoch 10/50\n",
            "50/50 [==============================] - 0s 5ms/step - loss: 0.1449 - accuracy: 0.9648 - val_loss: 0.4714 - val_accuracy: 0.7845\n",
            "Epoch 11/50\n",
            "50/50 [==============================] - 0s 5ms/step - loss: 0.1143 - accuracy: 0.9755 - val_loss: 0.4760 - val_accuracy: 0.7870\n",
            "Epoch 12/50\n",
            "50/50 [==============================] - 0s 5ms/step - loss: 0.0917 - accuracy: 0.9893 - val_loss: 0.4842 - val_accuracy: 0.7920\n",
            "Epoch 13/50\n",
            "50/50 [==============================] - 0s 5ms/step - loss: 0.0755 - accuracy: 0.9874 - val_loss: 0.5008 - val_accuracy: 0.7845\n",
            "Epoch 14/50\n",
            "50/50 [==============================] - 0s 6ms/step - loss: 0.0624 - accuracy: 0.9887 - val_loss: 0.5180 - val_accuracy: 0.7719\n",
            "Epoch 15/50\n",
            "50/50 [==============================] - 0s 5ms/step - loss: 0.0518 - accuracy: 0.9912 - val_loss: 0.5217 - val_accuracy: 0.7794\n",
            "Epoch 16/50\n",
            "50/50 [==============================] - 0s 5ms/step - loss: 0.0437 - accuracy: 0.9944 - val_loss: 0.5594 - val_accuracy: 0.7594\n",
            "Epoch 17/50\n",
            "50/50 [==============================] - 0s 6ms/step - loss: 0.0378 - accuracy: 0.9944 - val_loss: 0.5732 - val_accuracy: 0.7569\n",
            "Epoch 18/50\n",
            "50/50 [==============================] - 0s 5ms/step - loss: 0.0324 - accuracy: 0.9937 - val_loss: 0.5588 - val_accuracy: 0.7820\n",
            "Epoch 19/50\n",
            "50/50 [==============================] - 0s 6ms/step - loss: 0.0284 - accuracy: 0.9969 - val_loss: 0.5882 - val_accuracy: 0.7694\n",
            "Epoch 20/50\n",
            "50/50 [==============================] - 0s 6ms/step - loss: 0.0250 - accuracy: 0.9981 - val_loss: 0.6132 - val_accuracy: 0.7619\n",
            "Epoch 21/50\n",
            "50/50 [==============================] - 0s 5ms/step - loss: 0.0221 - accuracy: 0.9969 - val_loss: 0.6103 - val_accuracy: 0.7694\n",
            "Epoch 22/50\n",
            "50/50 [==============================] - 0s 6ms/step - loss: 0.0201 - accuracy: 0.9975 - val_loss: 0.6162 - val_accuracy: 0.7845\n",
            "Epoch 23/50\n",
            "50/50 [==============================] - 0s 6ms/step - loss: 0.0180 - accuracy: 0.9975 - val_loss: 0.6390 - val_accuracy: 0.7694\n",
            "Epoch 24/50\n",
            "50/50 [==============================] - 0s 5ms/step - loss: 0.0165 - accuracy: 0.9975 - val_loss: 0.6456 - val_accuracy: 0.7769\n",
            "Epoch 25/50\n",
            "50/50 [==============================] - 0s 5ms/step - loss: 0.0150 - accuracy: 0.9981 - val_loss: 0.6540 - val_accuracy: 0.7870\n",
            "Epoch 26/50\n",
            "50/50 [==============================] - 0s 5ms/step - loss: 0.0141 - accuracy: 0.9981 - val_loss: 0.6592 - val_accuracy: 0.7920\n",
            "Epoch 27/50\n",
            "50/50 [==============================] - 0s 5ms/step - loss: 0.0128 - accuracy: 0.9987 - val_loss: 0.6688 - val_accuracy: 0.7920\n",
            "Epoch 28/50\n",
            "50/50 [==============================] - 0s 5ms/step - loss: 0.0117 - accuracy: 0.9975 - val_loss: 0.7035 - val_accuracy: 0.7644\n",
            "Epoch 29/50\n",
            "50/50 [==============================] - 0s 6ms/step - loss: 0.0122 - accuracy: 0.9981 - val_loss: 0.6990 - val_accuracy: 0.7744\n",
            "Epoch 30/50\n",
            "50/50 [==============================] - 0s 8ms/step - loss: 0.0109 - accuracy: 0.9975 - val_loss: 0.7613 - val_accuracy: 0.7544\n",
            "Epoch 31/50\n",
            "50/50 [==============================] - 0s 7ms/step - loss: 0.0101 - accuracy: 0.9981 - val_loss: 0.7317 - val_accuracy: 0.7619\n",
            "Epoch 32/50\n",
            "50/50 [==============================] - 0s 8ms/step - loss: 0.0092 - accuracy: 0.9975 - val_loss: 0.7905 - val_accuracy: 0.7544\n",
            "Epoch 33/50\n",
            "50/50 [==============================] - 0s 8ms/step - loss: 0.0099 - accuracy: 0.9975 - val_loss: 0.8257 - val_accuracy: 0.7469\n",
            "Epoch 34/50\n",
            "50/50 [==============================] - 0s 7ms/step - loss: 0.0089 - accuracy: 0.9987 - val_loss: 0.7438 - val_accuracy: 0.7820\n",
            "Epoch 35/50\n",
            "50/50 [==============================] - 0s 5ms/step - loss: 0.0079 - accuracy: 0.9987 - val_loss: 0.7861 - val_accuracy: 0.7619\n",
            "Epoch 36/50\n",
            "50/50 [==============================] - 0s 6ms/step - loss: 0.0073 - accuracy: 0.9987 - val_loss: 0.7747 - val_accuracy: 0.7594\n",
            "Epoch 37/50\n",
            "50/50 [==============================] - 0s 6ms/step - loss: 0.0070 - accuracy: 0.9981 - val_loss: 0.8244 - val_accuracy: 0.7544\n",
            "Epoch 38/50\n",
            "50/50 [==============================] - 0s 6ms/step - loss: 0.0068 - accuracy: 0.9981 - val_loss: 0.8175 - val_accuracy: 0.7544\n",
            "Epoch 39/50\n",
            "50/50 [==============================] - 0s 6ms/step - loss: 0.0070 - accuracy: 0.9975 - val_loss: 0.8154 - val_accuracy: 0.7619\n",
            "Epoch 40/50\n",
            "50/50 [==============================] - 0s 6ms/step - loss: 0.0060 - accuracy: 0.9987 - val_loss: 0.8295 - val_accuracy: 0.7594\n",
            "Epoch 41/50\n",
            "50/50 [==============================] - 0s 5ms/step - loss: 0.0060 - accuracy: 0.9981 - val_loss: 0.8199 - val_accuracy: 0.7644\n",
            "Epoch 42/50\n",
            "50/50 [==============================] - 0s 5ms/step - loss: 0.0056 - accuracy: 0.9987 - val_loss: 0.8854 - val_accuracy: 0.7494\n",
            "Epoch 43/50\n",
            "50/50 [==============================] - 0s 5ms/step - loss: 0.0059 - accuracy: 0.9987 - val_loss: 0.9483 - val_accuracy: 0.7368\n",
            "Epoch 44/50\n",
            "50/50 [==============================] - 0s 6ms/step - loss: 0.0062 - accuracy: 0.9981 - val_loss: 0.9225 - val_accuracy: 0.7444\n",
            "Epoch 45/50\n",
            "50/50 [==============================] - 0s 6ms/step - loss: 0.0056 - accuracy: 0.9987 - val_loss: 0.8789 - val_accuracy: 0.7519\n",
            "Epoch 46/50\n",
            "50/50 [==============================] - 0s 5ms/step - loss: 0.0052 - accuracy: 0.9987 - val_loss: 0.9041 - val_accuracy: 0.7469\n",
            "Epoch 47/50\n",
            "50/50 [==============================] - 0s 5ms/step - loss: 0.0056 - accuracy: 0.9981 - val_loss: 0.8525 - val_accuracy: 0.7744\n",
            "Epoch 48/50\n",
            "50/50 [==============================] - 0s 6ms/step - loss: 0.0057 - accuracy: 0.9981 - val_loss: 0.9048 - val_accuracy: 0.7494\n",
            "Epoch 49/50\n",
            "50/50 [==============================] - 0s 5ms/step - loss: 0.0047 - accuracy: 0.9987 - val_loss: 1.0138 - val_accuracy: 0.7368\n",
            "Epoch 50/50\n",
            "50/50 [==============================] - 0s 5ms/step - loss: 0.0056 - accuracy: 0.9975 - val_loss: 0.9501 - val_accuracy: 0.7419\n"
          ]
        },
        {
          "output_type": "execute_result",
          "data": {
            "text/plain": [
              "<keras.callbacks.History at 0x7f7c044f2130>"
            ]
          },
          "metadata": {},
          "execution_count": 86
        }
      ]
    },
    {
      "cell_type": "code",
      "source": [
        "res = model.predict(testing_sentences)\n",
        "print(res)\n",
        "print(testing_labels)"
      ],
      "metadata": {
        "colab": {
          "base_uri": "https://localhost:8080/"
        },
        "id": "ivPYfDPBBPtg",
        "outputId": "7fe31ded-b410-432c-9b14-b2b222d24eb5"
      },
      "execution_count": null,
      "outputs": [
        {
          "output_type": "stream",
          "name": "stdout",
          "text": [
            "13/13 [==============================] - 0s 5ms/step\n",
            "[[9.99924541e-01]\n",
            " [9.99540448e-01]\n",
            " [1.00000000e+00]\n",
            " [1.30276475e-03]\n",
            " [9.99801099e-01]\n",
            " [7.56280005e-01]\n",
            " [1.65020917e-02]\n",
            " [4.25918363e-02]\n",
            " [1.51013462e-02]\n",
            " [2.36239452e-02]\n",
            " [9.54777658e-01]\n",
            " [2.09474176e-01]\n",
            " [7.87100988e-04]\n",
            " [5.23786962e-01]\n",
            " [9.74526048e-01]\n",
            " [2.83401739e-02]\n",
            " [4.15011629e-04]\n",
            " [9.99921322e-01]\n",
            " [1.20799064e-04]\n",
            " [6.07472286e-03]\n",
            " [8.51053745e-04]\n",
            " [9.68374729e-01]\n",
            " [1.12098898e-03]\n",
            " [9.99927282e-01]\n",
            " [9.98170018e-01]\n",
            " [9.99924064e-01]\n",
            " [9.62798119e-01]\n",
            " [7.64428139e-01]\n",
            " [9.99982834e-01]\n",
            " [9.83122408e-01]\n",
            " [9.65626836e-01]\n",
            " [8.88497010e-03]\n",
            " [1.66469682e-02]\n",
            " [9.01603937e-01]\n",
            " [3.44334722e-01]\n",
            " [7.73182631e-01]\n",
            " [8.82730842e-01]\n",
            " [1.41539102e-04]\n",
            " [8.98074031e-01]\n",
            " [9.82947767e-01]\n",
            " [1.63785007e-04]\n",
            " [9.01590765e-01]\n",
            " [8.12521040e-01]\n",
            " [9.99779522e-01]\n",
            " [2.12625440e-04]\n",
            " [4.02547797e-04]\n",
            " [9.66376305e-01]\n",
            " [9.99998331e-01]\n",
            " [2.77294636e-01]\n",
            " [4.69815015e-04]\n",
            " [1.00000000e+00]\n",
            " [9.76800919e-01]\n",
            " [5.11859434e-05]\n",
            " [9.91722763e-01]\n",
            " [1.67809159e-01]\n",
            " [9.99904394e-01]\n",
            " [2.48779100e-03]\n",
            " [2.18881411e-04]\n",
            " [9.99982119e-01]\n",
            " [9.99986529e-01]\n",
            " [6.31266972e-04]\n",
            " [9.99985576e-01]\n",
            " [9.99997854e-01]\n",
            " [2.70535976e-01]\n",
            " [9.99737203e-01]\n",
            " [5.58271885e-01]\n",
            " [9.49531317e-01]\n",
            " [2.76412461e-02]\n",
            " [5.98105609e-01]\n",
            " [7.05278726e-05]\n",
            " [8.04836631e-01]\n",
            " [3.83647508e-04]\n",
            " [9.99947429e-01]\n",
            " [9.99196112e-01]\n",
            " [9.99170780e-01]\n",
            " [9.42221936e-03]\n",
            " [1.10359586e-04]\n",
            " [9.99999404e-01]\n",
            " [3.25941015e-04]\n",
            " [9.98517931e-01]\n",
            " [9.10053194e-01]\n",
            " [9.98069823e-01]\n",
            " [1.00000000e+00]\n",
            " [9.98471797e-01]\n",
            " [1.43424973e-01]\n",
            " [9.99999881e-01]\n",
            " [9.99986291e-01]\n",
            " [6.81832910e-01]\n",
            " [9.99999523e-01]\n",
            " [9.99262631e-01]\n",
            " [5.96503681e-03]\n",
            " [9.99969363e-01]\n",
            " [9.99994040e-01]\n",
            " [7.84012973e-01]\n",
            " [2.89686501e-01]\n",
            " [9.87351239e-01]\n",
            " [1.00522926e-02]\n",
            " [8.66002589e-03]\n",
            " [1.04540503e-02]\n",
            " [1.28795011e-02]\n",
            " [8.89416710e-02]\n",
            " [4.82310206e-01]\n",
            " [9.99409318e-01]\n",
            " [9.93847072e-01]\n",
            " [3.39830220e-02]\n",
            " [3.71083878e-02]\n",
            " [5.96639551e-02]\n",
            " [9.99698162e-01]\n",
            " [3.87603906e-03]\n",
            " [9.11429822e-01]\n",
            " [7.11280518e-05]\n",
            " [7.93370545e-01]\n",
            " [1.03088267e-01]\n",
            " [9.99886870e-01]\n",
            " [9.99998212e-01]\n",
            " [9.99301195e-01]\n",
            " [2.33331341e-02]\n",
            " [4.16961295e-04]\n",
            " [1.97779475e-04]\n",
            " [9.82890069e-01]\n",
            " [7.65992701e-02]\n",
            " [9.99573290e-01]\n",
            " [8.88007104e-01]\n",
            " [9.95358288e-01]\n",
            " [9.99999881e-01]\n",
            " [9.94638741e-01]\n",
            " [6.44862792e-03]\n",
            " [8.22720304e-03]\n",
            " [9.58066702e-01]\n",
            " [9.19206917e-01]\n",
            " [9.99732316e-01]\n",
            " [9.89444554e-01]\n",
            " [2.08779424e-02]\n",
            " [9.75810766e-01]\n",
            " [7.82995176e-06]\n",
            " [5.75146794e-01]\n",
            " [1.24643065e-01]\n",
            " [9.99999523e-01]\n",
            " [1.12759524e-04]\n",
            " [9.99999523e-01]\n",
            " [1.37814006e-03]\n",
            " [3.50207044e-03]\n",
            " [5.89113589e-03]\n",
            " [1.67604958e-04]\n",
            " [3.38601356e-04]\n",
            " [9.80534732e-01]\n",
            " [6.85092211e-01]\n",
            " [9.06219780e-01]\n",
            " [9.99293208e-01]\n",
            " [8.50883603e-01]\n",
            " [1.28810329e-03]\n",
            " [9.79566634e-01]\n",
            " [3.78014147e-02]\n",
            " [7.82378688e-02]\n",
            " [8.63269210e-01]\n",
            " [3.47693622e-01]\n",
            " [9.99906301e-01]\n",
            " [9.99940872e-01]\n",
            " [1.59721486e-02]\n",
            " [9.99999881e-01]\n",
            " [2.45887712e-01]\n",
            " [3.62177402e-01]\n",
            " [1.02283493e-01]\n",
            " [9.80292022e-01]\n",
            " [9.89165902e-03]\n",
            " [4.93470162e-01]\n",
            " [9.83865201e-01]\n",
            " [9.98678267e-01]\n",
            " [9.21015501e-01]\n",
            " [7.94449355e-03]\n",
            " [1.00000000e+00]\n",
            " [3.08112830e-01]\n",
            " [3.00468326e-01]\n",
            " [9.81118560e-01]\n",
            " [1.16393782e-01]\n",
            " [9.96244609e-01]\n",
            " [1.27696795e-02]\n",
            " [3.85896536e-03]\n",
            " [1.30704735e-04]\n",
            " [4.98023480e-01]\n",
            " [9.92654920e-01]\n",
            " [9.91568744e-01]\n",
            " [2.17829613e-04]\n",
            " [8.27123001e-02]\n",
            " [7.83539176e-01]\n",
            " [2.84700185e-01]\n",
            " [4.88737583e-01]\n",
            " [9.99997616e-01]\n",
            " [1.00000000e+00]\n",
            " [1.64267533e-02]\n",
            " [8.61957669e-01]\n",
            " [4.34123771e-03]\n",
            " [4.26616073e-01]\n",
            " [5.15018880e-01]\n",
            " [9.99786079e-01]\n",
            " [9.89435375e-01]\n",
            " [9.99998212e-01]\n",
            " [1.63424507e-01]\n",
            " [9.90356386e-01]\n",
            " [6.50446713e-01]\n",
            " [9.99301434e-01]\n",
            " [8.75713468e-01]\n",
            " [9.99549210e-01]\n",
            " [9.91521478e-01]\n",
            " [9.51627076e-01]\n",
            " [4.08812225e-01]\n",
            " [3.26027715e-04]\n",
            " [4.33945749e-03]\n",
            " [5.15032530e-01]\n",
            " [9.99675870e-01]\n",
            " [4.45816142e-04]\n",
            " [7.07930088e-01]\n",
            " [8.35775398e-03]\n",
            " [9.99999285e-01]\n",
            " [8.06696355e-01]\n",
            " [1.40090520e-03]\n",
            " [9.66312289e-01]\n",
            " [9.79767680e-01]\n",
            " [8.40096056e-01]\n",
            " [9.83462751e-01]\n",
            " [1.59397445e-07]\n",
            " [9.99878526e-01]\n",
            " [9.35878217e-01]\n",
            " [1.96206477e-03]\n",
            " [6.91612184e-01]\n",
            " [6.54202938e-01]\n",
            " [9.38303828e-01]\n",
            " [1.69645742e-01]\n",
            " [9.99988914e-01]\n",
            " [6.60339147e-02]\n",
            " [1.84980046e-04]\n",
            " [2.36858204e-02]\n",
            " [9.99999046e-01]\n",
            " [9.62153554e-01]\n",
            " [9.51892436e-01]\n",
            " [9.99283373e-01]\n",
            " [9.04544577e-05]\n",
            " [6.41780615e-01]\n",
            " [5.15645266e-01]\n",
            " [8.06358680e-02]\n",
            " [8.35349500e-01]\n",
            " [4.42208380e-01]\n",
            " [2.10458580e-02]\n",
            " [1.08136250e-04]\n",
            " [9.68715906e-01]\n",
            " [6.37473306e-03]\n",
            " [8.39150310e-01]\n",
            " [1.38959882e-03]\n",
            " [3.94399904e-05]\n",
            " [9.45852637e-01]\n",
            " [4.01447015e-03]\n",
            " [9.99569714e-01]\n",
            " [9.99998927e-01]\n",
            " [4.50485823e-04]\n",
            " [2.27887154e-01]\n",
            " [9.99928832e-01]\n",
            " [2.03505993e-01]\n",
            " [2.55207270e-01]\n",
            " [4.10824636e-04]\n",
            " [9.99999762e-01]\n",
            " [8.10592830e-01]\n",
            " [1.02866266e-03]\n",
            " [1.00000000e+00]\n",
            " [7.09170163e-01]\n",
            " [8.41165006e-01]\n",
            " [9.99998093e-01]\n",
            " [2.08823738e-04]\n",
            " [9.99924898e-01]\n",
            " [1.26308296e-02]\n",
            " [1.26792621e-02]\n",
            " [3.16963473e-04]\n",
            " [1.00000000e+00]\n",
            " [8.09340179e-02]\n",
            " [2.88614959e-01]\n",
            " [1.19406478e-02]\n",
            " [7.48099834e-02]\n",
            " [5.29239357e-01]\n",
            " [9.99995708e-01]\n",
            " [9.99987364e-01]\n",
            " [1.96471974e-01]\n",
            " [7.37458904e-05]\n",
            " [9.98221219e-01]\n",
            " [3.45329583e-01]\n",
            " [3.25035676e-02]\n",
            " [6.17464304e-01]\n",
            " [2.46361771e-04]\n",
            " [4.25760722e-04]\n",
            " [9.55535293e-01]\n",
            " [4.50291395e-01]\n",
            " [9.39813912e-01]\n",
            " [9.99620199e-01]\n",
            " [2.30180580e-04]\n",
            " [3.36080411e-05]\n",
            " [3.58050577e-02]\n",
            " [9.99986291e-01]\n",
            " [9.96951103e-01]\n",
            " [9.61251259e-01]\n",
            " [9.61946607e-01]\n",
            " [9.98901606e-01]\n",
            " [2.96489452e-04]\n",
            " [9.89152551e-01]\n",
            " [4.04988050e-01]\n",
            " [2.90883541e-01]\n",
            " [2.86153797e-02]\n",
            " [4.03631404e-02]\n",
            " [2.43513161e-04]\n",
            " [9.06661093e-01]\n",
            " [3.24964911e-01]\n",
            " [9.98155773e-01]\n",
            " [9.31238234e-01]\n",
            " [2.13932320e-01]\n",
            " [3.60338204e-02]\n",
            " [3.25279608e-02]\n",
            " [2.21249866e-04]\n",
            " [2.95511330e-04]\n",
            " [2.70286000e-05]\n",
            " [9.93662357e-01]\n",
            " [9.85367537e-01]\n",
            " [5.91925323e-01]\n",
            " [1.79084271e-01]\n",
            " [9.97641563e-01]\n",
            " [9.99582231e-01]\n",
            " [1.07983172e-01]\n",
            " [4.78126458e-05]\n",
            " [1.06048442e-01]\n",
            " [3.28640989e-03]\n",
            " [4.82630372e-01]\n",
            " [1.35123206e-03]\n",
            " [1.57494229e-04]\n",
            " [9.99583900e-01]\n",
            " [6.09868467e-01]\n",
            " [4.17910874e-01]\n",
            " [4.77338843e-02]\n",
            " [9.92449403e-01]\n",
            " [7.81135976e-01]\n",
            " [9.67732906e-01]\n",
            " [6.94179907e-03]\n",
            " [5.27477086e-01]\n",
            " [6.70692801e-01]\n",
            " [9.84791084e-04]\n",
            " [7.34332480e-06]\n",
            " [5.34294426e-01]\n",
            " [9.87555921e-01]\n",
            " [8.06869119e-02]\n",
            " [4.58587706e-03]\n",
            " [1.12673442e-03]\n",
            " [4.64492947e-01]\n",
            " [5.11920273e-01]\n",
            " [9.98506725e-01]\n",
            " [4.82688285e-03]\n",
            " [9.92153704e-01]\n",
            " [2.51921583e-02]\n",
            " [1.10517710e-01]\n",
            " [5.89513547e-05]\n",
            " [5.37287618e-04]\n",
            " [7.55185634e-03]\n",
            " [6.82772588e-05]\n",
            " [6.49599315e-05]\n",
            " [1.90946250e-03]\n",
            " [9.18508098e-02]\n",
            " [9.22790051e-01]\n",
            " [3.53136449e-03]\n",
            " [3.95187050e-01]\n",
            " [8.33476722e-01]\n",
            " [7.94184380e-05]\n",
            " [2.88494617e-01]\n",
            " [5.49664497e-01]\n",
            " [9.84292448e-01]\n",
            " [5.70147693e-01]\n",
            " [5.64530119e-02]\n",
            " [9.71125245e-01]\n",
            " [6.69298461e-04]\n",
            " [6.52051494e-02]\n",
            " [1.90805867e-02]\n",
            " [9.90998864e-01]\n",
            " [5.48613607e-04]\n",
            " [4.53256488e-01]\n",
            " [6.68468624e-02]\n",
            " [1.64736271e-01]\n",
            " [5.73439815e-04]\n",
            " [6.66368961e-01]\n",
            " [5.76643348e-01]\n",
            " [2.81961467e-02]\n",
            " [9.91913199e-01]\n",
            " [6.81226957e-04]\n",
            " [1.13703785e-02]\n",
            " [8.56347561e-01]\n",
            " [9.41839755e-01]\n",
            " [4.94619489e-01]\n",
            " [6.94547772e-01]\n",
            " [9.87803161e-01]\n",
            " [3.45769465e-01]\n",
            " [5.05267922e-03]\n",
            " [3.34780576e-04]\n",
            " [6.58712327e-01]\n",
            " [5.63300699e-02]\n",
            " [7.08240841e-05]\n",
            " [6.74714208e-01]\n",
            " [3.21295556e-05]]\n",
            "[0 1 1 1 1 1 0 1 0 0 0 0 0 1 1 0 0 1 0 0 0 1 0 1 1 0 0 0 1 1 1 0 1 0 1 0 1\n",
            " 0 1 1 0 1 0 0 0 0 0 1 0 0 1 1 0 1 0 1 1 1 1 1 1 1 1 1 1 1 1 1 0 0 1 0 1 1\n",
            " 1 1 0 1 0 1 0 1 1 1 0 1 1 1 1 1 0 1 1 1 0 0 0 0 0 0 0 1 1 1 0 1 0 1 0 1 0\n",
            " 1 0 1 1 1 0 1 0 1 1 1 1 1 1 1 0 1 1 0 0 1 1 1 0 0 1 1 1 1 0 0 0 0 1 1 1 0\n",
            " 1 1 1 1 1 0 1 0 1 1 0 1 0 0 0 1 0 1 1 1 1 0 1 0 0 1 0 1 0 0 0 1 1 1 0 0 1\n",
            " 0 1 1 1 1 0 0 1 0 1 1 1 0 1 0 1 0 1 1 0 1 0 1 1 0 0 0 0 1 1 0 1 0 0 0 0 1\n",
            " 1 0 0 0 0 0 0 0 0 0 1 1 0 1 0 0 1 0 1 1 0 0 0 0 1 0 0 1 0 1 1 0 0 1 1 0 0\n",
            " 1 1 0 1 1 1 1 1 1 0 0 0 1 1 0 0 0 1 1 0 0 0 1 0 0 0 0 0 1 0 1 1 0 0 1 1 1\n",
            " 1 0 1 0 1 0 0 0 0 0 1 0 1 0 0 0 0 0 0 0 0 0 0 0 0 1 0 0 0 0 0 0 0 0 0 0 0\n",
            " 0 0 0 0 0 0 0 0 0 0 0 0 0 0 0 0 0 0 0 0 0 0 0 0 0 0 0 0 0 0 0 0 0 0 0 0 0\n",
            " 0 0 0 0 0 0 0 0 0 0 0 0 0 0 0 0 0 0 0 0 0 0 0 0 0 0 0 0 0]\n"
          ]
        }
      ]
    },
    {
      "cell_type": "code",
      "source": [
        "# gets the weight of embedding layer\n",
        "e = model.layers[1]\n",
        "weights = e.get_weights()[0]\n",
        "print(weights.shape) # shape: (vocab_size, embedding_dim)"
      ],
      "metadata": {
        "colab": {
          "base_uri": "https://localhost:8080/"
        },
        "id": "5G37TjGKBfJN",
        "outputId": "8c6d832f-a8d4-4c83-ac1c-a56ce9213fef"
      },
      "execution_count": null,
      "outputs": [
        {
          "output_type": "stream",
          "name": "stdout",
          "text": [
            "(1000, 16)\n"
          ]
        }
      ]
    },
    {
      "cell_type": "code",
      "source": [
        "vocab = vectorize_layer.get_vocabulary()\n",
        "vocab[2]"
      ],
      "metadata": {
        "colab": {
          "base_uri": "https://localhost:8080/",
          "height": 35
        },
        "id": "nV9JfShICqjw",
        "outputId": "c884e214-120c-4b04-eb35-c172c6efff44"
      },
      "execution_count": null,
      "outputs": [
        {
          "output_type": "execute_result",
          "data": {
            "text/plain": [
              "'the'"
            ],
            "application/vnd.google.colaboratory.intrinsic+json": {
              "type": "string"
            }
          },
          "metadata": {},
          "execution_count": 44
        }
      ]
    },
    {
      "cell_type": "code",
      "source": [
        "vectorize_layer('the')"
      ],
      "metadata": {
        "colab": {
          "base_uri": "https://localhost:8080/"
        },
        "id": "U1lZ_e_WC5dO",
        "outputId": "6def6e63-023e-442f-ec84-4a232578e464"
      },
      "execution_count": null,
      "outputs": [
        {
          "output_type": "execute_result",
          "data": {
            "text/plain": [
              "<tf.Tensor: shape=(100,), dtype=int64, numpy=\n",
              "array([2, 0, 0, 0, 0, 0, 0, 0, 0, 0, 0, 0, 0, 0, 0, 0, 0, 0, 0, 0, 0, 0,\n",
              "       0, 0, 0, 0, 0, 0, 0, 0, 0, 0, 0, 0, 0, 0, 0, 0, 0, 0, 0, 0, 0, 0,\n",
              "       0, 0, 0, 0, 0, 0, 0, 0, 0, 0, 0, 0, 0, 0, 0, 0, 0, 0, 0, 0, 0, 0,\n",
              "       0, 0, 0, 0, 0, 0, 0, 0, 0, 0, 0, 0, 0, 0, 0, 0, 0, 0, 0, 0, 0, 0,\n",
              "       0, 0, 0, 0, 0, 0, 0, 0, 0, 0, 0, 0])>"
            ]
          },
          "metadata": {},
          "execution_count": 45
        }
      ]
    },
    {
      "cell_type": "code",
      "source": [
        "weights[1]"
      ],
      "metadata": {
        "colab": {
          "base_uri": "https://localhost:8080/"
        },
        "id": "31S22MVwDf4K",
        "outputId": "7b1c1443-43e4-43c5-dbb1-b5b334216c04"
      },
      "execution_count": null,
      "outputs": [
        {
          "output_type": "execute_result",
          "data": {
            "text/plain": [
              "array([ 0.1436247 ,  0.07204819, -0.06205701,  0.00270236, -0.10443427,\n",
              "        0.05647457,  0.2677651 , -0.07168355, -0.06802192,  0.07656789,\n",
              "       -0.06384771,  0.0142506 ,  0.09298639, -0.06472651, -0.14465114,\n",
              "       -0.08269614], dtype=float32)"
            ]
          },
          "metadata": {},
          "execution_count": 49
        }
      ]
    },
    {
      "cell_type": "code",
      "source": [
        "'\\t'.join([str(x) for x in weights[1]]) + '\\n'"
      ],
      "metadata": {
        "colab": {
          "base_uri": "https://localhost:8080/",
          "height": 53
        },
        "id": "xcveUGbVDVWS",
        "outputId": "be18aee5-502c-4f4f-9f76-cf75cae3c6e8"
      },
      "execution_count": null,
      "outputs": [
        {
          "output_type": "execute_result",
          "data": {
            "text/plain": [
              "'0.1436247\\t0.072048195\\t-0.062057015\\t0.0027023626\\t-0.10443427\\t0.05647457\\t0.2677651\\t-0.07168355\\t-0.068021916\\t0.07656789\\t-0.063847706\\t0.014250603\\t0.09298639\\t-0.06472651\\t-0.14465114\\t-0.08269614n'"
            ],
            "application/vnd.google.colaboratory.intrinsic+json": {
              "type": "string"
            }
          },
          "metadata": {},
          "execution_count": 52
        }
      ]
    },
    {
      "cell_type": "code",
      "source": [
        "len(weights)\n",
        "print(weights[0])"
      ],
      "metadata": {
        "colab": {
          "base_uri": "https://localhost:8080/"
        },
        "id": "PWTK2z6KGr8l",
        "outputId": "2bdda4ba-58f3-4b14-c114-726055648c1f"
      },
      "execution_count": null,
      "outputs": [
        {
          "output_type": "stream",
          "name": "stdout",
          "text": [
            "[-0.01978349 -0.07466815 -0.03651166  0.08708697  0.02759125 -0.05589483\n",
            " -0.09106522 -0.0538241   0.11897381  0.0723303   0.04001506 -0.07620195\n",
            "  0.03915503  0.02066263 -0.02996428 -0.0829912 ]\n"
          ]
        }
      ]
    },
    {
      "cell_type": "code",
      "source": [
        "import io\n",
        "\n",
        "# write out the embedding vectors and metadata\n",
        "out_v = io.open('vecs.tsv', 'w', encoding='utf-8')\n",
        "out_m = io.open('meta.tsv', 'w', encoding='utf-8')\n",
        "out_m.write('word\\n') # column title\n",
        "\n",
        "for word_num in range(0, vocab_size):\n",
        "  word = vocab[word_num]\n",
        "  embeddings = weights[word_num]\n",
        "  # write down words to metadata\n",
        "  out_m.write(word + '\\n')\n",
        "  # write down embedding to embedding file\n",
        "  # tab before each dim and newline for dims for each word\n",
        "  out_v.write('\\t'.join([str(x) for x in embeddings]) + '\\n')\n",
        "out_v.close()\n",
        "out_m.close()"
      ],
      "metadata": {
        "id": "ZufJYCKOB-0u"
      },
      "execution_count": null,
      "outputs": []
    },
    {
      "cell_type": "code",
      "source": [
        "# Download the files\n",
        "try:\n",
        "  from google.colab import files\n",
        "except ImportError:\n",
        "  pass\n",
        "else:\n",
        "  files.download('vecs.tsv')\n",
        "  files.download('meta.tsv')"
      ],
      "metadata": {
        "colab": {
          "base_uri": "https://localhost:8080/",
          "height": 17
        },
        "id": "ldxWrRd4EA1P",
        "outputId": "4710494c-78a4-4956-9625-a94a721f4385"
      },
      "execution_count": null,
      "outputs": [
        {
          "output_type": "display_data",
          "data": {
            "text/plain": [
              "<IPython.core.display.Javascript object>"
            ],
            "application/javascript": [
              "\n",
              "    async function download(id, filename, size) {\n",
              "      if (!google.colab.kernel.accessAllowed) {\n",
              "        return;\n",
              "      }\n",
              "      const div = document.createElement('div');\n",
              "      const label = document.createElement('label');\n",
              "      label.textContent = `Downloading \"${filename}\": `;\n",
              "      div.appendChild(label);\n",
              "      const progress = document.createElement('progress');\n",
              "      progress.max = size;\n",
              "      div.appendChild(progress);\n",
              "      document.body.appendChild(div);\n",
              "\n",
              "      const buffers = [];\n",
              "      let downloaded = 0;\n",
              "\n",
              "      const channel = await google.colab.kernel.comms.open(id);\n",
              "      // Send a message to notify the kernel that we're ready.\n",
              "      channel.send({})\n",
              "\n",
              "      for await (const message of channel.messages) {\n",
              "        // Send a message to notify the kernel that we're ready.\n",
              "        channel.send({})\n",
              "        if (message.buffers) {\n",
              "          for (const buffer of message.buffers) {\n",
              "            buffers.push(buffer);\n",
              "            downloaded += buffer.byteLength;\n",
              "            progress.value = downloaded;\n",
              "          }\n",
              "        }\n",
              "      }\n",
              "      const blob = new Blob(buffers, {type: 'application/binary'});\n",
              "      const a = document.createElement('a');\n",
              "      a.href = window.URL.createObjectURL(blob);\n",
              "      a.download = filename;\n",
              "      div.appendChild(a);\n",
              "      a.click();\n",
              "      div.remove();\n",
              "    }\n",
              "  "
            ]
          },
          "metadata": {}
        },
        {
          "output_type": "display_data",
          "data": {
            "text/plain": [
              "<IPython.core.display.Javascript object>"
            ],
            "application/javascript": [
              "download(\"download_0862a0c9-6698-4977-b8d1-2cf084eb6749\", \"vecs.tsv\", 185990)"
            ]
          },
          "metadata": {}
        },
        {
          "output_type": "display_data",
          "data": {
            "text/plain": [
              "<IPython.core.display.Javascript object>"
            ],
            "application/javascript": [
              "\n",
              "    async function download(id, filename, size) {\n",
              "      if (!google.colab.kernel.accessAllowed) {\n",
              "        return;\n",
              "      }\n",
              "      const div = document.createElement('div');\n",
              "      const label = document.createElement('label');\n",
              "      label.textContent = `Downloading \"${filename}\": `;\n",
              "      div.appendChild(label);\n",
              "      const progress = document.createElement('progress');\n",
              "      progress.max = size;\n",
              "      div.appendChild(progress);\n",
              "      document.body.appendChild(div);\n",
              "\n",
              "      const buffers = [];\n",
              "      let downloaded = 0;\n",
              "\n",
              "      const channel = await google.colab.kernel.comms.open(id);\n",
              "      // Send a message to notify the kernel that we're ready.\n",
              "      channel.send({})\n",
              "\n",
              "      for await (const message of channel.messages) {\n",
              "        // Send a message to notify the kernel that we're ready.\n",
              "        channel.send({})\n",
              "        if (message.buffers) {\n",
              "          for (const buffer of message.buffers) {\n",
              "            buffers.push(buffer);\n",
              "            downloaded += buffer.byteLength;\n",
              "            progress.value = downloaded;\n",
              "          }\n",
              "        }\n",
              "      }\n",
              "      const blob = new Blob(buffers, {type: 'application/binary'});\n",
              "      const a = document.createElement('a');\n",
              "      a.href = window.URL.createObjectURL(blob);\n",
              "      a.download = filename;\n",
              "      div.appendChild(a);\n",
              "      a.click();\n",
              "      div.remove();\n",
              "    }\n",
              "  "
            ]
          },
          "metadata": {}
        },
        {
          "output_type": "display_data",
          "data": {
            "text/plain": [
              "<IPython.core.display.Javascript object>"
            ],
            "application/javascript": [
              "download(\"download_387fe7bc-4648-4cb1-ac31-51b7b5e1ec43\", \"meta.tsv\", 6540)"
            ]
          },
          "metadata": {}
        }
      ]
    },
    {
      "cell_type": "code",
      "source": [
        "fake_reviews = ['I love this phone', 'I hate spaghetti', \n",
        "                'Everything was cold',\n",
        "                'Everything was hot exactly as I wanted', \n",
        "                'Everything was green', \n",
        "                'the host seated us immediately',\n",
        "                'they gave us free chocolate cake', \n",
        "                'not sure about the wilted flowers on the table',\n",
        "                'only works when I stand on tippy toes', ]\n",
        "res = model.predict(fake_reviews)"
      ],
      "metadata": {
        "colab": {
          "base_uri": "https://localhost:8080/"
        },
        "id": "8qE28JYWHR3m",
        "outputId": "f8035f98-b08f-42ce-dd50-f01bb9fa98d6"
      },
      "execution_count": null,
      "outputs": [
        {
          "output_type": "stream",
          "name": "stdout",
          "text": [
            "1/1 [==============================] - 0s 28ms/step\n"
          ]
        }
      ]
    },
    {
      "cell_type": "code",
      "source": [
        "res = res[:, 0]"
      ],
      "metadata": {
        "id": "eaHGPsrRL1zD"
      },
      "execution_count": null,
      "outputs": []
    },
    {
      "cell_type": "code",
      "source": [
        "for x in range(0, len(fake_reviews)):\n",
        "  if ( res[x] >= 0.5 ):\n",
        "    print('1' + ' ' + fake_reviews[x])\n",
        "    print()\n",
        "  else:\n",
        "    print('0' + ' ' + fake_reviews[x])\n",
        "    print()"
      ],
      "metadata": {
        "colab": {
          "base_uri": "https://localhost:8080/"
        },
        "id": "ZGyBurA4LydM",
        "outputId": "33ac6b5f-7433-4880-aeb5-ade73b6b283d"
      },
      "execution_count": null,
      "outputs": [
        {
          "output_type": "stream",
          "name": "stdout",
          "text": [
            "1 I love this phone\n",
            "\n",
            "0 I hate spaghetti\n",
            "\n",
            "0 Everything was cold\n",
            "\n",
            "1 Everything was hot exactly as I wanted\n",
            "\n",
            "0 Everything was green\n",
            "\n",
            "1 the host seated us immediately\n",
            "\n",
            "1 they gave us free chocolate cake\n",
            "\n",
            "0 not sure about the wilted flowers on the table\n",
            "\n",
            "1 only works when I stand on tippy toes\n",
            "\n"
          ]
        }
      ]
    },
    {
      "cell_type": "code",
      "source": [
        "fake_reviews = ['not', 'waste']\n",
        "model.predict(fake_reviews)"
      ],
      "metadata": {
        "colab": {
          "base_uri": "https://localhost:8080/"
        },
        "id": "4qkbCTvwKz88",
        "outputId": "7df2395e-a264-4733-dc59-adfc5cfff9ad"
      },
      "execution_count": null,
      "outputs": [
        {
          "output_type": "stream",
          "name": "stdout",
          "text": [
            "1/1 [==============================] - 0s 29ms/step\n"
          ]
        },
        {
          "output_type": "execute_result",
          "data": {
            "text/plain": [
              "array([[0.00015167],\n",
              "       [0.00018447]], dtype=float32)"
            ]
          },
          "metadata": {},
          "execution_count": 96
        }
      ]
    },
    {
      "cell_type": "code",
      "source": [
        "# tunning the model\n",
        "vocab_size = 500\n",
        "embedding_dimention = 16\n",
        "max_sequence_length = 50\n",
        "\n",
        "tf.keras.backend.clear_session()\n",
        "\n",
        "vectorize_layer = tf.keras.layers.TextVectorization(max_tokens=vocab_size, \n",
        "                                                    output_mode='int', \n",
        "                                                    output_sequence_length=max_sequence_length)\n",
        "vectorize_layer.adapt(training_sentences)                                       \n",
        "\n",
        "model = tf.keras.Sequential([\n",
        "    tf.keras.Input(shape=(1,), dtype=tf.string),\n",
        "    vectorize_layer,\n",
        "    tf.keras.layers.Embedding(vocab_size, embedding_dimention, input_length=max_sequence_length),\n",
        "    tf.keras.layers.GlobalAveragePooling1D(),\n",
        "    tf.keras.layers.Dense(6, activation='relu'),\n",
        "    tf.keras.layers.Dense(1, activation='sigmoid')\n",
        "])\n",
        "\n",
        "model.compile(loss=tf.keras.losses.BinaryCrossentropy(from_logits=False), optimizer='adam',\n",
        "              metrics=['accuracy'])\n",
        "model.summary()"
      ],
      "metadata": {
        "colab": {
          "base_uri": "https://localhost:8080/"
        },
        "id": "z53P01rAXnlt",
        "outputId": "012e76a1-00ab-4d34-823d-a24fcbad0a68"
      },
      "execution_count": 6,
      "outputs": [
        {
          "output_type": "stream",
          "name": "stdout",
          "text": [
            "Model: \"sequential\"\n",
            "_________________________________________________________________\n",
            " Layer (type)                Output Shape              Param #   \n",
            "=================================================================\n",
            " text_vectorization (TextVec  (None, 50)               0         \n",
            " torization)                                                     \n",
            "                                                                 \n",
            " embedding (Embedding)       (None, 50, 16)            8000      \n",
            "                                                                 \n",
            " global_average_pooling1d (G  (None, 16)               0         \n",
            " lobalAveragePooling1D)                                          \n",
            "                                                                 \n",
            " dense (Dense)               (None, 6)                 102       \n",
            "                                                                 \n",
            " dense_1 (Dense)             (None, 1)                 7         \n",
            "                                                                 \n",
            "=================================================================\n",
            "Total params: 8,109\n",
            "Trainable params: 8,109\n",
            "Non-trainable params: 0\n",
            "_________________________________________________________________\n"
          ]
        }
      ]
    },
    {
      "cell_type": "code",
      "source": [
        "history = model.fit(training_sentences, training_labels, epochs=50, validation_data=(testing_sentences, testing_labels))"
      ],
      "metadata": {
        "colab": {
          "base_uri": "https://localhost:8080/"
        },
        "id": "IpGXNyvPXzx1",
        "outputId": "54bafce0-6fa5-4815-e2aa-3c314bcd4c2c"
      },
      "execution_count": 8,
      "outputs": [
        {
          "output_type": "stream",
          "name": "stdout",
          "text": [
            "Epoch 1/50\n",
            "50/50 [==============================] - 1s 11ms/step - loss: 0.1884 - accuracy: 0.9228 - val_loss: 0.5996 - val_accuracy: 0.7318\n",
            "Epoch 2/50\n",
            "50/50 [==============================] - 1s 12ms/step - loss: 0.1854 - accuracy: 0.9309 - val_loss: 0.5624 - val_accuracy: 0.7544\n",
            "Epoch 3/50\n",
            "50/50 [==============================] - 1s 12ms/step - loss: 0.1850 - accuracy: 0.9272 - val_loss: 0.5748 - val_accuracy: 0.7519\n",
            "Epoch 4/50\n",
            "50/50 [==============================] - 0s 8ms/step - loss: 0.1812 - accuracy: 0.9291 - val_loss: 0.5963 - val_accuracy: 0.7293\n",
            "Epoch 5/50\n",
            "50/50 [==============================] - 1s 14ms/step - loss: 0.1782 - accuracy: 0.9278 - val_loss: 0.5918 - val_accuracy: 0.7444\n",
            "Epoch 6/50\n",
            "50/50 [==============================] - 0s 7ms/step - loss: 0.1785 - accuracy: 0.9316 - val_loss: 0.6039 - val_accuracy: 0.7343\n",
            "Epoch 7/50\n",
            "50/50 [==============================] - 0s 8ms/step - loss: 0.1760 - accuracy: 0.9341 - val_loss: 0.5945 - val_accuracy: 0.7444\n",
            "Epoch 8/50\n",
            "50/50 [==============================] - 0s 6ms/step - loss: 0.1734 - accuracy: 0.9309 - val_loss: 0.6419 - val_accuracy: 0.7218\n",
            "Epoch 9/50\n",
            "50/50 [==============================] - 0s 5ms/step - loss: 0.1732 - accuracy: 0.9341 - val_loss: 0.6045 - val_accuracy: 0.7444\n",
            "Epoch 10/50\n",
            "50/50 [==============================] - 0s 6ms/step - loss: 0.1707 - accuracy: 0.9379 - val_loss: 0.6228 - val_accuracy: 0.7343\n",
            "Epoch 11/50\n",
            "50/50 [==============================] - 0s 6ms/step - loss: 0.1690 - accuracy: 0.9360 - val_loss: 0.6435 - val_accuracy: 0.7293\n",
            "Epoch 12/50\n",
            "50/50 [==============================] - 0s 6ms/step - loss: 0.1683 - accuracy: 0.9353 - val_loss: 0.6126 - val_accuracy: 0.7419\n",
            "Epoch 13/50\n",
            "50/50 [==============================] - 0s 5ms/step - loss: 0.1652 - accuracy: 0.9353 - val_loss: 0.7048 - val_accuracy: 0.7068\n",
            "Epoch 14/50\n",
            "50/50 [==============================] - 0s 9ms/step - loss: 0.1670 - accuracy: 0.9360 - val_loss: 0.6319 - val_accuracy: 0.7419\n",
            "Epoch 15/50\n",
            "50/50 [==============================] - 1s 12ms/step - loss: 0.1643 - accuracy: 0.9360 - val_loss: 0.6577 - val_accuracy: 0.7318\n",
            "Epoch 16/50\n",
            "50/50 [==============================] - 1s 12ms/step - loss: 0.1632 - accuracy: 0.9391 - val_loss: 0.6390 - val_accuracy: 0.7393\n",
            "Epoch 17/50\n",
            "50/50 [==============================] - 1s 14ms/step - loss: 0.1603 - accuracy: 0.9422 - val_loss: 0.6719 - val_accuracy: 0.7293\n",
            "Epoch 18/50\n",
            "50/50 [==============================] - 1s 12ms/step - loss: 0.1593 - accuracy: 0.9416 - val_loss: 0.6433 - val_accuracy: 0.7393\n",
            "Epoch 19/50\n",
            "50/50 [==============================] - 1s 14ms/step - loss: 0.1584 - accuracy: 0.9391 - val_loss: 0.6603 - val_accuracy: 0.7368\n",
            "Epoch 20/50\n",
            "50/50 [==============================] - 1s 11ms/step - loss: 0.1552 - accuracy: 0.9422 - val_loss: 0.7222 - val_accuracy: 0.7243\n",
            "Epoch 21/50\n",
            "50/50 [==============================] - 1s 11ms/step - loss: 0.1579 - accuracy: 0.9379 - val_loss: 0.6891 - val_accuracy: 0.7293\n",
            "Epoch 22/50\n",
            "50/50 [==============================] - 1s 13ms/step - loss: 0.1538 - accuracy: 0.9429 - val_loss: 0.6662 - val_accuracy: 0.7393\n",
            "Epoch 23/50\n",
            "50/50 [==============================] - 1s 15ms/step - loss: 0.1529 - accuracy: 0.9454 - val_loss: 0.6819 - val_accuracy: 0.7343\n",
            "Epoch 24/50\n",
            "50/50 [==============================] - 1s 15ms/step - loss: 0.1557 - accuracy: 0.9429 - val_loss: 0.7930 - val_accuracy: 0.7043\n",
            "Epoch 25/50\n",
            "50/50 [==============================] - 1s 13ms/step - loss: 0.1512 - accuracy: 0.9479 - val_loss: 0.7192 - val_accuracy: 0.7243\n",
            "Epoch 26/50\n",
            "50/50 [==============================] - 1s 11ms/step - loss: 0.1500 - accuracy: 0.9422 - val_loss: 0.7166 - val_accuracy: 0.7293\n",
            "Epoch 27/50\n",
            "50/50 [==============================] - 1s 24ms/step - loss: 0.1464 - accuracy: 0.9485 - val_loss: 0.6894 - val_accuracy: 0.7393\n",
            "Epoch 28/50\n",
            "50/50 [==============================] - 1s 22ms/step - loss: 0.1495 - accuracy: 0.9435 - val_loss: 0.7393 - val_accuracy: 0.7268\n",
            "Epoch 29/50\n",
            "50/50 [==============================] - 1s 18ms/step - loss: 0.1460 - accuracy: 0.9454 - val_loss: 0.6761 - val_accuracy: 0.7569\n",
            "Epoch 30/50\n",
            "50/50 [==============================] - 1s 12ms/step - loss: 0.1498 - accuracy: 0.9422 - val_loss: 0.7404 - val_accuracy: 0.7293\n",
            "Epoch 31/50\n",
            "50/50 [==============================] - 1s 12ms/step - loss: 0.1442 - accuracy: 0.9479 - val_loss: 0.7065 - val_accuracy: 0.7444\n",
            "Epoch 32/50\n",
            "50/50 [==============================] - 1s 15ms/step - loss: 0.1461 - accuracy: 0.9492 - val_loss: 0.7875 - val_accuracy: 0.7218\n",
            "Epoch 33/50\n",
            "50/50 [==============================] - 1s 14ms/step - loss: 0.1458 - accuracy: 0.9448 - val_loss: 0.7798 - val_accuracy: 0.7243\n",
            "Epoch 34/50\n",
            "50/50 [==============================] - 1s 14ms/step - loss: 0.1425 - accuracy: 0.9492 - val_loss: 0.7750 - val_accuracy: 0.7268\n",
            "Epoch 35/50\n",
            "50/50 [==============================] - 1s 12ms/step - loss: 0.1408 - accuracy: 0.9510 - val_loss: 0.7299 - val_accuracy: 0.7469\n",
            "Epoch 36/50\n",
            "50/50 [==============================] - 0s 5ms/step - loss: 0.1406 - accuracy: 0.9498 - val_loss: 0.7771 - val_accuracy: 0.7268\n",
            "Epoch 37/50\n",
            "50/50 [==============================] - 0s 5ms/step - loss: 0.1394 - accuracy: 0.9510 - val_loss: 0.7790 - val_accuracy: 0.7268\n",
            "Epoch 38/50\n",
            "50/50 [==============================] - 0s 6ms/step - loss: 0.1388 - accuracy: 0.9485 - val_loss: 0.7911 - val_accuracy: 0.7293\n",
            "Epoch 39/50\n",
            "50/50 [==============================] - 0s 6ms/step - loss: 0.1379 - accuracy: 0.9492 - val_loss: 0.7884 - val_accuracy: 0.7293\n",
            "Epoch 40/50\n",
            "50/50 [==============================] - 0s 5ms/step - loss: 0.1369 - accuracy: 0.9492 - val_loss: 0.7705 - val_accuracy: 0.7419\n",
            "Epoch 41/50\n",
            "50/50 [==============================] - 0s 6ms/step - loss: 0.1386 - accuracy: 0.9504 - val_loss: 0.7706 - val_accuracy: 0.7368\n",
            "Epoch 42/50\n",
            "50/50 [==============================] - 0s 5ms/step - loss: 0.1354 - accuracy: 0.9485 - val_loss: 0.7994 - val_accuracy: 0.7318\n",
            "Epoch 43/50\n",
            "50/50 [==============================] - 0s 8ms/step - loss: 0.1352 - accuracy: 0.9529 - val_loss: 0.8299 - val_accuracy: 0.7268\n",
            "Epoch 44/50\n",
            "50/50 [==============================] - 1s 11ms/step - loss: 0.1326 - accuracy: 0.9498 - val_loss: 0.8253 - val_accuracy: 0.7293\n",
            "Epoch 45/50\n",
            "50/50 [==============================] - 1s 11ms/step - loss: 0.1333 - accuracy: 0.9504 - val_loss: 0.7848 - val_accuracy: 0.7469\n",
            "Epoch 46/50\n",
            "50/50 [==============================] - 0s 9ms/step - loss: 0.1340 - accuracy: 0.9510 - val_loss: 0.8298 - val_accuracy: 0.7343\n",
            "Epoch 47/50\n",
            "50/50 [==============================] - 0s 6ms/step - loss: 0.1313 - accuracy: 0.9523 - val_loss: 0.7983 - val_accuracy: 0.7419\n",
            "Epoch 48/50\n",
            "50/50 [==============================] - 0s 5ms/step - loss: 0.1314 - accuracy: 0.9529 - val_loss: 0.8504 - val_accuracy: 0.7343\n",
            "Epoch 49/50\n",
            "50/50 [==============================] - 0s 5ms/step - loss: 0.1292 - accuracy: 0.9548 - val_loss: 0.9075 - val_accuracy: 0.7143\n",
            "Epoch 50/50\n",
            "50/50 [==============================] - 0s 6ms/step - loss: 0.1310 - accuracy: 0.9504 - val_loss: 0.8304 - val_accuracy: 0.7368\n"
          ]
        }
      ]
    },
    {
      "cell_type": "code",
      "source": [
        "import matplotlib.pyplot as plt\n",
        "\n",
        "\n",
        "def plot_graphs(history, string):\n",
        "  plt.plot(history.history[string])\n",
        "  plt.plot(history.history['val_'+string])\n",
        "  plt.xlabel(\"Epochs\")\n",
        "  plt.ylabel(string)\n",
        "  plt.legend([string, 'val_'+string])\n",
        "  plt.show()\n",
        "  \n",
        "plot_graphs(history, \"accuracy\")\n",
        "plot_graphs(history, \"loss\")"
      ],
      "metadata": {
        "colab": {
          "base_uri": "https://localhost:8080/",
          "height": 541
        },
        "id": "l_8JrYU7YE9H",
        "outputId": "a8f1246a-eacb-4377-beb7-9c452ab46562"
      },
      "execution_count": 9,
      "outputs": [
        {
          "output_type": "display_data",
          "data": {
            "text/plain": [
              "<Figure size 432x288 with 1 Axes>"
            ],
            "image/png": "[encoded data removed]"
          },
          "metadata": {
            "needs_background": "light"
          }
        },
        {
          "output_type": "display_data",
          "data": {
            "text/plain": [
              "<Figure size 432x288 with 1 Axes>"
            ],
            "image/png": "[encoded data removed]"
          },
          "metadata": {
            "needs_background": "light"
          }
        }
      ]
    },
    {
      "cell_type": "code",
      "source": [
        "# gets the weight of embedding layer\n",
        "e = model.layers[1]\n",
        "weights = e.get_weights()[0]\n",
        "print(weights.shape) # shape: (vocab_size, embedding_dim)\n",
        "\n",
        "vocab = vectorize_layer.get_vocabulary()\n",
        "\n",
        "import io\n",
        "\n",
        "# write out the embedding vectors and metadata\n",
        "out_v = io.open('vecs.tsv', 'w', encoding='utf-8')\n",
        "out_m = io.open('meta.tsv', 'w', encoding='utf-8')\n",
        "out_m.write('word\\n') # column title\n",
        "\n",
        "for word_num in range(0, vocab_size):\n",
        "  word = vocab[word_num]\n",
        "  embeddings = weights[word_num]\n",
        "  # write down words to metadata\n",
        "  out_m.write(word + '\\n')\n",
        "  # write down embedding to embedding file\n",
        "  # tab before each dim and newline for dims for each word\n",
        "  out_v.write('\\t'.join([str(x) for x in embeddings]) + '\\n')\n",
        "out_v.close()\n",
        "out_m.close()\n",
        "\n",
        "# Download the files\n",
        "try:\n",
        "  from google.colab import files\n",
        "except ImportError:\n",
        "  pass\n",
        "else:\n",
        "  files.download('vecs.tsv')\n",
        "  files.download('meta.tsv')"
      ],
      "metadata": {
        "colab": {
          "base_uri": "https://localhost:8080/",
          "height": 34
        },
        "id": "8Nfa8RXdYVOF",
        "outputId": "035d4eeb-0c5d-4402-b9e2-71dc93adfc04"
      },
      "execution_count": 11,
      "outputs": [
        {
          "output_type": "stream",
          "name": "stdout",
          "text": [
            "(500, 16)\n"
          ]
        },
        {
          "output_type": "display_data",
          "data": {
            "text/plain": [
              "<IPython.core.display.Javascript object>"
            ],
            "application/javascript": [
              "\n",
              "    async function download(id, filename, size) {\n",
              "      if (!google.colab.kernel.accessAllowed) {\n",
              "        return;\n",
              "      }\n",
              "      const div = document.createElement('div');\n",
              "      const label = document.createElement('label');\n",
              "      label.textContent = `Downloading \"${filename}\": `;\n",
              "      div.appendChild(label);\n",
              "      const progress = document.createElement('progress');\n",
              "      progress.max = size;\n",
              "      div.appendChild(progress);\n",
              "      document.body.appendChild(div);\n",
              "\n",
              "      const buffers = [];\n",
              "      let downloaded = 0;\n",
              "\n",
              "      const channel = await google.colab.kernel.comms.open(id);\n",
              "      // Send a message to notify the kernel that we're ready.\n",
              "      channel.send({})\n",
              "\n",
              "      for await (const message of channel.messages) {\n",
              "        // Send a message to notify the kernel that we're ready.\n",
              "        channel.send({})\n",
              "        if (message.buffers) {\n",
              "          for (const buffer of message.buffers) {\n",
              "            buffers.push(buffer);\n",
              "            downloaded += buffer.byteLength;\n",
              "            progress.value = downloaded;\n",
              "          }\n",
              "        }\n",
              "      }\n",
              "      const blob = new Blob(buffers, {type: 'application/binary'});\n",
              "      const a = document.createElement('a');\n",
              "      a.href = window.URL.createObjectURL(blob);\n",
              "      a.download = filename;\n",
              "      div.appendChild(a);\n",
              "      a.click();\n",
              "      div.remove();\n",
              "    }\n",
              "  "
            ]
          },
          "metadata": {}
        },
        {
          "output_type": "display_data",
          "data": {
            "text/plain": [
              "<IPython.core.display.Javascript object>"
            ],
            "application/javascript": [
              "download(\"download_7e8ff180-798a-41d5-8f79-120236de2584\", \"vecs.tsv\", 89967)"
            ]
          },
          "metadata": {}
        },
        {
          "output_type": "display_data",
          "data": {
            "text/plain": [
              "<IPython.core.display.Javascript object>"
            ],
            "application/javascript": [
              "\n",
              "    async function download(id, filename, size) {\n",
              "      if (!google.colab.kernel.accessAllowed) {\n",
              "        return;\n",
              "      }\n",
              "      const div = document.createElement('div');\n",
              "      const label = document.createElement('label');\n",
              "      label.textContent = `Downloading \"${filename}\": `;\n",
              "      div.appendChild(label);\n",
              "      const progress = document.createElement('progress');\n",
              "      progress.max = size;\n",
              "      div.appendChild(progress);\n",
              "      document.body.appendChild(div);\n",
              "\n",
              "      const buffers = [];\n",
              "      let downloaded = 0;\n",
              "\n",
              "      const channel = await google.colab.kernel.comms.open(id);\n",
              "      // Send a message to notify the kernel that we're ready.\n",
              "      channel.send({})\n",
              "\n",
              "      for await (const message of channel.messages) {\n",
              "        // Send a message to notify the kernel that we're ready.\n",
              "        channel.send({})\n",
              "        if (message.buffers) {\n",
              "          for (const buffer of message.buffers) {\n",
              "            buffers.push(buffer);\n",
              "            downloaded += buffer.byteLength;\n",
              "            progress.value = downloaded;\n",
              "          }\n",
              "        }\n",
              "      }\n",
              "      const blob = new Blob(buffers, {type: 'application/binary'});\n",
              "      const a = document.createElement('a');\n",
              "      a.href = window.URL.createObjectURL(blob);\n",
              "      a.download = filename;\n",
              "      div.appendChild(a);\n",
              "      a.click();\n",
              "      div.remove();\n",
              "    }\n",
              "  "
            ]
          },
          "metadata": {}
        },
        {
          "output_type": "display_data",
          "data": {
            "text/plain": [
              "<IPython.core.display.Javascript object>"
            ],
            "application/javascript": [
              "download(\"download_ff30a0b6-0b36-41ee-8f4e-1508224218c8\", \"meta.tsv\", 3028)"
            ]
          },
          "metadata": {}
        }
      ]
    }
  ]
}